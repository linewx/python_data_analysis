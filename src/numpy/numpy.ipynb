{
 "cells": [
  {
   "cell_type": "code",
   "execution_count": 4,
   "metadata": {
    "collapsed": true
   },
   "outputs": [],
   "source": [
    "import numpy as np\n",
    "from IPython.display import display, HTML"
   ]
  },
  {
   "cell_type": "markdown",
   "source": [
    "## 1. 基本属性\n",
    "--------------\n",
    "\n",
    "* ndarray (N Dimension Array)\n",
    "* dtype\n",
    "* shape"
   ],
   "metadata": {
    "collapsed": false
   }
  },
  {
   "cell_type": "code",
   "execution_count": 44,
   "outputs": [
    {
     "data": {
      "text/plain": "array([[0, 1, 2, 3, 4],\n       [5, 6, 7, 8, 9]])"
     },
     "metadata": {},
     "output_type": "display_data"
    },
    {
     "name": "stdout",
     "output_type": "stream",
     "text": [
      "dtype:  int64\n",
      "shape:  (2, 5)\n"
     ]
    }
   ],
   "source": [
    "arr1 = np.arange(10).reshape(2,5)\n",
    "display(arr1)\n",
    "print('dtype: ',arr1.dtype)\n",
    "print('shape: ', arr1.shape)\n"
   ],
   "metadata": {
    "collapsed": false,
    "pycharm": {
     "name": "#%%\n"
    }
   }
  },
  {
   "cell_type": "markdown",
   "source": [
    "## 2. [创建](https://numpy.org/doc/stable/reference/routines.array-creation.html#)\n",
    "----------------\n",
    "* 通过现有数据创建\n",
    "* 通过现有shape or value\n",
    "* 通过range\n",
    "* random\n",
    "* reshape (1维 -> n维)"
   ],
   "metadata": {
    "collapsed": false
   }
  },
  {
   "cell_type": "code",
   "execution_count": 48,
   "outputs": [
    {
     "data": {
      "text/plain": "array([[1., 1., 1., 1., 1.],\n       [1., 1., 1., 1., 1.]])"
     },
     "execution_count": 48,
     "metadata": {},
     "output_type": "execute_result"
    }
   ],
   "source": [
    "# 2.1 通过现有数据创建\n",
    "arr1 = np.array([1,2,3,4,5,6])\n",
    "\n",
    "arr2 = np.asarray([1,2,3,4,5,6]).reshape(2,3)\n",
    "\n",
    "\n",
    "# 2.2 通过现有shape or value\n",
    "arr221 = np.zeros((2,5))\n",
    "arr221_1 = np.zeros_like(arr1)\n",
    "\n",
    "arr222 = np.ones((2,5))\n",
    "arr222_1 = np.ones_like(arr1)\n",
    "\n",
    "arr223 = np.empty((2,5))\n",
    "arr223_1 = np.empty_like(arr1)\n",
    "\n",
    "\n",
    "# 2.3 通过range\n",
    "arr23 = np.arange(10, 20, 2)\n",
    "\n",
    "\n",
    "# 2.4 random\n",
    "arr24 = np.random.random(10)\n",
    "arr24_2 = np.random.randn(2,3)\n",
    "\n",
    "\n",
    "# 2.5 1维 -》 N维\n",
    "arr25 = np.random.randn(10).reshape(2,5)"
   ],
   "metadata": {
    "collapsed": false,
    "pycharm": {
     "name": "#%%\n"
    }
   }
  },
  {
   "cell_type": "markdown",
   "source": [
    "## 3. 访问\n",
    "* 基础索引及切片\n",
    "* 布尔索引\n",
    "* 神奇索引"
   ],
   "metadata": {
    "collapsed": false
   }
  },
  {
   "cell_type": "code",
   "execution_count": 102,
   "outputs": [
    {
     "data": {
      "text/plain": "array([[ 0,  1,  2,  3,  4],\n       [ 5,  6,  7,  8,  9],\n       [10, 11, 12, 13, 14],\n       [15, 16, 17, 18, 19],\n       [20, 21, 22, 23, 24],\n       [25, 26, 27, 28, 29]])"
     },
     "metadata": {},
     "output_type": "display_data"
    },
    {
     "data": {
      "text/plain": "array([[16, 17],\n       [ 6,  7]])"
     },
     "execution_count": 102,
     "metadata": {},
     "output_type": "execute_result"
    }
   ],
   "source": [
    "\n",
    "# 3.1 基础索引\n",
    "arr3 = np.arange(30).reshape(6,5)\n",
    "display(arr3)\n",
    "\n",
    "# 3.1.1 单个元素 = 单列 + 单行\n",
    "arr3131 = arr3[2,1] # 第2行第1列\n",
    "\n",
    "# 3.1.2 单行 = 单行 + 多个列\n",
    "arr312 = arr3[1, :] # 所有列\n",
    "arr312_1 = arr3[1, [1,3]] #多列支持\n",
    "arr312_2 = arr3[1, 1:3] #连续的多列\n",
    "\n",
    "# 3.1.3 单列 = 单列 + 多个行\n",
    "arr313 = arr3[:, 1] #多列支持\n",
    "arr313_1 = arr3[[1,3], 1] #多列支持\n",
    "arr313_2 = arr3[1:3, 1] #连续的多行\n",
    "\n",
    "# 3.1.4 子数组 = 多行 + 多列\n",
    "arr314 = arr3[:, :]\n",
    "arr314_1 = arr3[[1,3], 1:3]\n",
    "\n",
    "\n",
    "# 3.2 布尔索引\n",
    "# 3.2.1 一维布尔索引\n",
    "arr321 = np.arange(30).reshape(6,5)\n",
    "arr321_names = np.array(['Joe', 'Bob', 'Bob', 'Allen', 'Bob', 'Joe'])\n",
    "# arr321_bool = (arr321_names == 'Joe') # 一维布尔值\n",
    "arr321[arr321_names == 'Joe'] = 0  # 第一行和最后一行被选中赋值了\n",
    "arr321_2 = np.arange(30).reshape(6,5)\n",
    "arr321_2[~(arr321_names == 'Joe')] = 0  # 除了第一和最后一行被选中赋值了\n",
    "\n",
    "\n",
    "# 3.2.2 二维布尔索引\n",
    "arr322 = np.arange(30).reshape(6,5)\n",
    "arr322[arr322%5 ==0] = 0 # 所有被5整除的数置为0\n",
    "\n",
    "# 3.3 神奇索引 （整数数组索引）\n",
    "# 生成了一个新的数组\n",
    "arr33 = np.arange(30).reshape(6,5)\n",
    "# array([[ 0,  1,  2,  3,  4],\n",
    "#        [ 5,  6,  7,  8,  9],\n",
    "#        [10, 11, 12, 13, 14],\n",
    "#        [15, 16, 17, 18, 19],\n",
    "#        [20, 21, 22, 23, 24],\n",
    "#        [25, 26, 27, 28, 29]])\n",
    "\n",
    "# 3.3.1 一维数组\n",
    "\n",
    "arr331 = arr33[[3,1]] #选中第三和第一行\n",
    "# array([[15, 16, 17, 18, 19],\n",
    "#        [ 5,  6,  7,  8,  9]])\n",
    "\n",
    "# 3.3.2 二维数组\n",
    "arr332 = arr33[[3,1],[1,2]]\n",
    "# 违反直觉！！！\n",
    "# 结果是一维数组元素(3,1), (1,2)\n",
    "# array([16,  7])\n",
    "\n",
    "# 这才是想要的，需要每次选一维，先选行，然后先列\n",
    "arr332_1 = arr33[[3,1]][:, [1,2]]\n",
    "#array([[16, 17],\n",
    "#       [ 6,  7]])\n"
   ],
   "metadata": {
    "collapsed": false,
    "pycharm": {
     "name": "#%%\n"
    }
   }
  },
  {
   "cell_type": "markdown",
   "source": [
    "## 4. 运算\n",
    "* [数学计算](https://numpy.org/doc/stable/reference/routines.math.html)\n",
    "* 统计计算\n",
    "* 排序\n",
    "* 线性代数"
   ],
   "metadata": {
    "collapsed": false
   }
  },
  {
   "cell_type": "code",
   "execution_count": 23,
   "outputs": [],
   "source": [
    "# 4.1 数学计算\n",
    "arr41 = np.arange(30).reshape(6,5)\n",
    "arr41_2 = np.arange(1,6)\n",
    "arr41_3 = np.arange(60,90).reshape(6,5)\n",
    "\n",
    "# 4.1.1 基础运算\n",
    "# 逐个元素计算\n",
    "# 2维与标量计算 [[1,2],[3,4]] * 2 = [[1,2]*2, [3,4] * 2] = [[1*2, 2*2], [3*2, 4*2]]\n",
    "\n",
    "# 4.1.1.1 2维 + 0维\n",
    "arr4111_1 = arr41 + 2\n",
    "arr4111_2 = arr41 - 2\n",
    "arr4111_3 = arr41 * 2\n",
    "arr4111_4 = arr41 / 2\n",
    "arr4111_5 = arr41 ** 2\n",
    "arr4111_6 = arr41 % 2\n",
    "arr4111_7 = arr41 > 2\n",
    "\n",
    "# 4.1.1.2 2维 + 1维\n",
    "arr4112_1 = arr41 + arr41_2\n",
    "arr4112_2 = arr41 - arr41_2\n",
    "arr4112_3 = arr41 * arr41_2\n",
    "arr4112_4 = arr41 / arr41_2\n",
    "\n",
    "# 4.1.1.3 2维 + 2维\n",
    "arr4113_1 = arr41 + arr41_3\n",
    "arr4113_2 = arr41 - arr41_3\n",
    "arr4113_3 = arr41 * arr41_3\n",
    "arr4113_4 = arr41 / arr41_3\n",
    "\n",
    "# 4.1.2 通用函数\n",
    "#array([[ 0,  1,  2,  3,  4],\n",
    "#       [ 5,  6,  7,  8,  9],\n",
    "#       [10, 11, 12, 13, 14],\n",
    "#       [15, 16, 17, 18, 19],\n",
    "#       [20, 21, 22, 23, 24],\n",
    "#       [25, 26, 27, 28, 29]])\n",
    "\n",
    "arr412_1 = np.sum(arr41)\n",
    "arr412_2 = np.sum(arr41, axis=1)\n",
    "arr412_3 = np.sum(arr41, axis=0)\n"
   ],
   "metadata": {
    "collapsed": false,
    "pycharm": {
     "name": "#%%\n"
    }
   }
  }
 ],
 "metadata": {
  "kernelspec": {
   "display_name": "Python 3",
   "language": "python",
   "name": "python3"
  },
  "language_info": {
   "codemirror_mode": {
    "name": "ipython",
    "version": 2
   },
   "file_extension": ".py",
   "mimetype": "text/x-python",
   "name": "python",
   "nbconvert_exporter": "python",
   "pygments_lexer": "ipython2",
   "version": "2.7.6"
  }
 },
 "nbformat": 4,
 "nbformat_minor": 0
}