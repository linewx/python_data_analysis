{
 "cells": [
  {
   "cell_type": "code",
   "execution_count": 39,
   "metadata": {
    "collapsed": true
   },
   "outputs": [],
   "source": [
    "import numpy as np\n",
    "from IPython.display import display, HTML"
   ]
  },
  {
   "cell_type": "markdown",
   "source": [
    "## 基本属性\n",
    "--------------\n",
    "\n",
    "* ndarray (N Dimension Array)\n",
    "* dtype\n",
    "* shape"
   ],
   "metadata": {
    "collapsed": false
   }
  },
  {
   "cell_type": "code",
   "execution_count": 40,
   "outputs": [
    {
     "data": {
      "text/plain": "array([[0, 1, 2, 3, 4],\n       [5, 6, 7, 8, 9]])"
     },
     "metadata": {},
     "output_type": "display_data"
    },
    {
     "name": "stdout",
     "output_type": "stream",
     "text": [
      "dtype:  int64\n",
      "shape:  (2, 5)\n"
     ]
    }
   ],
   "source": [
    "arr = np.arange(10).reshape(2,5)\n",
    "display(arr)\n",
    "print('dtype: ',arr.dtype)\n",
    "print('shape: ', arr.shape)\n"
   ],
   "metadata": {
    "collapsed": false,
    "pycharm": {
     "name": "#%%\n"
    }
   }
  },
  {
   "cell_type": "markdown",
   "source": [
    "## [创建](https://numpy.org/doc/stable/reference/routines.array-creation.html#)\n",
    "----------------\n",
    "* 通过现有数据创建\n",
    "* 通过现有shape or value\n",
    "* 通过range\n",
    "* random\n",
    "* reshape (1维 -> n维)"
   ],
   "metadata": {
    "collapsed": false
   }
  },
  {
   "cell_type": "code",
   "execution_count": 42,
   "outputs": [
    {
     "data": {
      "text/plain": "array([1, 2, 3, 4, 5])"
     },
     "metadata": {},
     "output_type": "display_data"
    },
    {
     "data": {
      "text/plain": "array([1, 2, 3, 4, 5])"
     },
     "metadata": {},
     "output_type": "display_data"
    }
   ],
   "source": [
    "# 1. 通过现有数据创建\n",
    "arr1 = np.array([1,2,3,4,5,6])\n",
    "display(arr1)\n",
    "\n",
    "arr2 = np.asarray([1,2,3,4,5,6]).reshape(2,3)\n",
    "display(arr2)\n",
    "\n",
    "# 2. 通过现有shape or value\n",
    "arr3 = np.zeros(2,5)\n",
    "arr3_1 = np.zeros_like(arr1)\n",
    "\n",
    "arr4 = np.ones(2,5)\n",
    "arr4_1 = np.ones_like(arr1)\n",
    "\n",
    "arr5 = np.empty(2,5)\n",
    "arr5_1 = np.empty_like(arr1)\n",
    "\n",
    "\n",
    "\n",
    "# 3. 通过range\n",
    "arr6 = np.arange(10, 20, 2)\n",
    "\n",
    "# 4. random\n",
    "arr7 = np.random.random(10)\n",
    "arr8 = np.random.randn(2,3)\n",
    "\n",
    "# 5. 1维 -》 N维\n",
    "arr9 = np.random.randn(10).reshape(2,5)\n",
    "\n"
   ],
   "metadata": {
    "collapsed": false,
    "pycharm": {
     "name": "#%%\n"
    }
   }
  }
 ],
 "metadata": {
  "kernelspec": {
   "display_name": "Python 3",
   "language": "python",
   "name": "python3"
  },
  "language_info": {
   "codemirror_mode": {
    "name": "ipython",
    "version": 2
   },
   "file_extension": ".py",
   "mimetype": "text/x-python",
   "name": "python",
   "nbconvert_exporter": "python",
   "pygments_lexer": "ipython2",
   "version": "2.7.6"
  }
 },
 "nbformat": 4,
 "nbformat_minor": 0
}