{
 "cells": [
  {
   "cell_type": "code",
   "execution_count": 14,
   "metadata": {
    "collapsed": true
   },
   "outputs": [
    {
     "name": "stdout",
     "output_type": "stream",
     "text": [
      "   a          b\n",
      "0  1       20.1\n",
      "1  2     sdfsdf\n",
      "2  3  wserwer.3\n",
      "0         20\n",
      "1     sdfsdf\n",
      "2    wserwer\n",
      "Name: b, dtype: object\n"
     ]
    }
   ],
   "source": [
    "import numpy as np\n",
    "import pandas as pd\n",
    "from IPython.display import display, HTML\n",
    "\n",
    "df = pd.DataFrame(np.arange(10).reshape(5,2), columns=['a', 'b'])\n",
    "\n",
    "\n",
    "df = pd.DataFrame({'a': [1,2,3], 'b': ['20.1', 'sdfsdf', 'wserwer.3']})\n",
    "print(df)\n",
    "\n",
    "print(df['b'].str.split('.').str[0])\n",
    "\n"
   ]
  }
 ],
 "metadata": {
  "kernelspec": {
   "display_name": "Python 3",
   "language": "python",
   "name": "python3"
  },
  "language_info": {
   "codemirror_mode": {
    "name": "ipython",
    "version": 2
   },
   "file_extension": ".py",
   "mimetype": "text/x-python",
   "name": "python",
   "nbconvert_exporter": "python",
   "pygments_lexer": "ipython2",
   "version": "2.7.6"
  }
 },
 "nbformat": 4,
 "nbformat_minor": 0
}