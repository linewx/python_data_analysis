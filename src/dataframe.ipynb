{
 "cells": [
  {
   "cell_type": "code",
   "execution_count": null,
   "metadata": {},
   "outputs": [],
   "source": [
    "import pandas as pd\n",
    "import numpy as np\n",
    "from IPython.display import display, HTML,Markdown\n",
    "\n",
    "def display_content(content, title=None, title_style='bold'):\n",
    "    if title is not None:\n",
    "        if title_style == 'bold':\n",
    "            title = f'**{title}**'\n",
    "        display(Markdown(f\"{title}\"))\n",
    "    display(content)\n"
   ]
  },
  {
   "cell_type": "markdown",
   "metadata": {},
   "source": [
    "# 基础属性\n",
    "\n",
    "* 排序的列集合\n",
    "* 行列索引\n",
    "* 共享索性的多个series\n",
    "* 多层索引 高维 \n",
    "* 列元素的类型是一样的，但是行不是，行列不是完全对称的"
   ]
  },
  {
   "cell_type": "code",
   "execution_count": null,
   "metadata": {},
   "outputs": [],
   "source": [
    "df1 = pd.DataFrame({'name': ['Joe', 'Helen'], 'score': [98, 80]})\n",
    "display_content(df1, '初始值')\n",
    "\n",
    "df1_1 = df1.values\n",
    "display_content(df1_1, 'df1的值')\n",
    "\n",
    "df1_2 = df1.columns\n",
    "display_content(df1_2, 'df1的columns')\n",
    "\n",
    "\n",
    "df1_3 = df1.index\n",
    "display_content(df1_3, 'df1的index')\n"
   ]
  },
  {
   "cell_type": "markdown",
   "metadata": {},
   "source": [
    "# 创建"
   ]
  },
  {
   "cell_type": "markdown",
   "metadata": {},
   "source": [
    "## 列集合 字典"
   ]
  },
  {
   "cell_type": "code",
   "execution_count": null,
   "metadata": {},
   "outputs": [],
   "source": [
    "df21_1 = pd.DataFrame({'name': ['Joe', 'Helen'], 'score': [98, 80]})\n",
    "display_content(df21_1, \"通过 {col: [col_value, col_value2]} 创建：<font color=green>pd.DataFrame({'name': ['Joe', 'Helen'], 'score': [98, 80]}) </font>\")\n",
    "\n",
    "df21_2 = pd.DataFrame({'name': ('Joe', 'Helen'), 'score': (98, 80)})\n",
    "display_content(df21_2, \"通过 {col: (col_value, col_value2)} 创建：<font color=green>pd.DataFrame({'name': ('Joe', 'Helen'), 'score': (98, 80)}) </font>\")\n",
    "\n",
    "df21_3 = pd.DataFrame({'math_score': {'Joe':98, 'Helen': 80}, 'english_score': {'Joe':97, 'May': 70}})\n",
    "display_content(df21_3, \"通过 {col: {row_index, col_value}} 创建：<font color=green>pd.DataFrame({'math_score': {'Joe':98, 'Helen': 80}, 'english_score': {'Joe':97, 'May': 70}}) </font>\")\n",
    "\n",
    "s21_4 = pd.Series([90, 80], index=['Joe', 'Helen'])\n",
    "df21_4 = pd.DataFrame({'score': s21_4})\n",
    "display_content(df21_4, \"通过 {col: series} 创建：<font color=green>pd.DataFrame({'score': pd.Series([90, 80], index=['Joe', 'Helen'])})</font>\")\n"
   ]
  },
  {
   "cell_type": "markdown",
   "metadata": {},
   "source": [
    "## 行集合 列表"
   ]
  },
  {
   "cell_type": "code",
   "execution_count": null,
   "metadata": {},
   "outputs": [],
   "source": [
    "s22_1 = pd.DataFrame([['Joe', 98], ['Helen', 80]], columns=['name', 'score'])\n",
    "display_content(s22_1, \"通过 2d array 创建：<font color=green>pd.DataFrame([['Joe', 98], ['Helen', 80]], columns=['name', 'score'])</font>\")\n",
    "\n",
    "s22_2 = pd.DataFrame([[98, 99], [80, 70]], columns=['math', 'english'], index=['Joe', 'Helen'])\n",
    "display_content(s22_2, \"通过 2d array with hindex 创建：<font color=green>pd.DataFrame([['Joe', 98], ['Helen', 80]], columns=['name', 'score'])</font>\")\n"
   ]
  },
  {
   "cell_type": "markdown",
   "metadata": {},
   "source": [
    "## 通过已有数据创建"
   ]
  },
  {
   "cell_type": "code",
   "execution_count": null,
   "metadata": {},
   "outputs": [],
   "source": [
    "s23 = pd.DataFrame([['Joe', 98], ['Helen', 80]], columns=['name', 'score'])\n",
    "\n",
    "s23_1 = pd.DataFrame(s23)\n",
    "display_content(s23_1, \"通过已有数据创建<font color=green>pd.DataFrame(s23)</font>\")"
   ]
  },
  {
   "cell_type": "markdown",
   "metadata": {},
   "source": [
    "# 访问"
   ]
  },
  {
   "cell_type": "markdown",
   "metadata": {},
   "source": [
    "## 普通访问"
   ]
  },
  {
   "cell_type": "code",
   "execution_count": null,
   "metadata": {},
   "outputs": [],
   "source": [
    "df31 = pd.DataFrame([['Joe', 98, 100], ['Helen', 80, 89], ['Allen',90, 98], ['Jack', 87, 78]], columns=['name', 'math', 'english'])\n",
    "\n",
    "display_content(df31, '初始值')\n",
    "\n",
    "\n",
    "\n",
    "df31_1 = df31['name']\n",
    "display_content(df31_1, '选择单列')\n",
    "\n",
    "\n",
    "df31_2 = df31[['name','math']]\n",
    "display_content(df31_2, '选择指定列')\n",
    "\n",
    "df31_3 = df31[1:2]            \n",
    "display_content(df31_3, '切片选择行')\n",
    "\n",
    "df31_4 = df31[df31['math'] > 90]\n",
    "display_content(df31_4, '布尔选择行')\n"
   ]
  },
  {
   "cell_type": "markdown",
   "metadata": {},
   "source": [
    "## [numpy 风格](https://wizardforcel.gitbooks.io/pyda-2e/content/img/7178691-64354f2ab777bd8c.png)"
   ]
  },
  {
   "cell_type": "markdown",
   "metadata": {},
   "source": [
    "### loc 标签索引"
   ]
  },
  {
   "cell_type": "code",
   "execution_count": null,
   "metadata": {},
   "outputs": [],
   "source": [
    "df321 = pd.DataFrame([['Joe', 98, 100], ['Helen', 80, 89], ['Allen',90, 98], ['Jack', 87, 78]], columns=['name', 'math', 'english'])\n",
    "df321_1 = df321.set_index('name')\n",
    "display_content(df321_1, '初始值')\n",
    "\n",
    "df321_2 = df321_1.loc['Joe']\n",
    "display_content(df321_1, '选择单行')\n",
    "\n",
    "df321_2 = df321_1.loc[['Joe', 'Helen']]\n",
    "display_content(df321_2, '选择多行')\n",
    "\n",
    "df321_3 = df321_1.loc['Joe':'Helen']\n",
    "display_content(df321_3, '切片选择多行')\n",
    "\n",
    "df321_4 = df321_1.loc[:, 'math']\n",
    "display_content(df321_4, '选择单列')\n",
    "\n",
    "df321_5 = df321_1.loc[:, ['math','english']]\n",
    "display_content(df321_5, '选择多列')\n",
    "\n",
    "df321_6 = df321_1.loc[:, 'math':'english']\n",
    "display_content(df321_6, '切片选择多列')\n",
    "\n",
    "df321_7 = df321_1.loc['Joe':'Helen','math']\n",
    "display_content(df321_7, '混合选择')\n"
   ]
  },
  {
   "cell_type": "markdown",
   "metadata": {},
   "source": [
    "### iloc整数索引"
   ]
  },
  {
   "cell_type": "code",
   "execution_count": null,
   "metadata": {},
   "outputs": [],
   "source": [
    "df322 = pd.DataFrame([['Joe', 98, 100], ['Helen', 80, 89], ['Allen',90, 98], ['Jack', 87, 78]], columns=['name', 'math', 'english'])\n",
    "display_content(df322, '初始值')\n",
    "\n",
    "df322_1 = df322.iloc[0]\n",
    "display_content(df322_1, '选择单行')\n",
    "\n",
    "df322_2 = df322.iloc[[0,1]]\n",
    "display_content(df322_2, '选择多行')\n",
    "\n",
    "df322_3 = df322.iloc[0:2]\n",
    "display_content(df322_3, '切片选择多行')\n",
    "\n",
    "df322_4 = df322.iloc[:,1]\n",
    "display_content(df322_4, '选择单列')\n",
    "\n",
    "df322_5 = df322.iloc[:, [0,1]]\n",
    "display_content(df322_5, '选择多列')\n",
    "\n",
    "df322_6 = df322.iloc[:, 0:1]\n",
    "display_content(df322_6, '切片选择多列')\n",
    "\n",
    "df322_7 = df322.iloc[0,1:2]\n",
    "display_content(df322_7, '混合选择')\n"
   ]
  },
  {
   "cell_type": "markdown",
   "metadata": {},
   "source": [
    "## 其他索引"
   ]
  },
  {
   "cell_type": "code",
   "execution_count": 132,
   "metadata": {},
   "outputs": [
    {
     "data": {
      "text/markdown": [
       "**初始值**"
      ],
      "text/plain": [
       "<IPython.core.display.Markdown object>"
      ]
     },
     "metadata": {},
     "output_type": "display_data"
    },
    {
     "data": {
      "text/html": [
       "<div>\n",
       "<style scoped>\n",
       "    .dataframe tbody tr th:only-of-type {\n",
       "        vertical-align: middle;\n",
       "    }\n",
       "\n",
       "    .dataframe tbody tr th {\n",
       "        vertical-align: top;\n",
       "    }\n",
       "\n",
       "    .dataframe thead th {\n",
       "        text-align: right;\n",
       "    }\n",
       "</style>\n",
       "<table border=\"1\" class=\"dataframe\">\n",
       "  <thead>\n",
       "    <tr style=\"text-align: right;\">\n",
       "      <th></th>\n",
       "      <th>name</th>\n",
       "      <th>math</th>\n",
       "      <th>english</th>\n",
       "    </tr>\n",
       "  </thead>\n",
       "  <tbody>\n",
       "    <tr>\n",
       "      <th>0</th>\n",
       "      <td>Joe</td>\n",
       "      <td>98</td>\n",
       "      <td>100</td>\n",
       "    </tr>\n",
       "    <tr>\n",
       "      <th>1</th>\n",
       "      <td>Helen</td>\n",
       "      <td>80</td>\n",
       "      <td>89</td>\n",
       "    </tr>\n",
       "    <tr>\n",
       "      <th>2</th>\n",
       "      <td>Allen</td>\n",
       "      <td>90</td>\n",
       "      <td>98</td>\n",
       "    </tr>\n",
       "    <tr>\n",
       "      <th>3</th>\n",
       "      <td>Jack</td>\n",
       "      <td>87</td>\n",
       "      <td>78</td>\n",
       "    </tr>\n",
       "  </tbody>\n",
       "</table>\n",
       "</div>"
      ],
      "text/plain": [
       "    name  math  english\n",
       "0    Joe    98      100\n",
       "1  Helen    80       89\n",
       "2  Allen    90       98\n",
       "3   Jack    87       78"
      ]
     },
     "metadata": {},
     "output_type": "display_data"
    },
    {
     "data": {
      "text/plain": [
       "'Joe'"
      ]
     },
     "execution_count": 132,
     "metadata": {},
     "output_type": "execute_result"
    }
   ],
   "source": [
    "df33 = pd.DataFrame([['Joe', 98, 100], ['Helen', 80, 89], ['Allen',90, 98], ['Jack', 87, 78]], columns=['name', 'math', 'english'])\n",
    "display_content(df33, '初始值')\n",
    "\n",
    "display_content(df33, \"\")"
   ]
  },
  {
   "cell_type": "markdown",
   "metadata": {},
   "source": [
    "# 修改"
   ]
  },
  {
   "cell_type": "code",
   "execution_count": null,
   "metadata": {},
   "outputs": [],
   "source": [
    "df4 = pd.DataFrame([['Joe', 98], ['Helen', 80]], columns=['name', 'score'])\n",
    "display_content(df4, \"初始值\")\n",
    "\n",
    "\n",
    "df4_1 = df4.rename(columns={'score': 'math'})\n",
    "display_content(df4_1, \"将score修改为math\")\n",
    "\n",
    "\n",
    "df4_1['english'] = [90, 88]\n",
    "\n",
    "display_content(df4_1, \"增加english列\")\n"
   ]
  },
  {
   "cell_type": "markdown",
   "metadata": {},
   "source": [
    "# 删除"
   ]
  },
  {
   "cell_type": "code",
   "execution_count": null,
   "metadata": {},
   "outputs": [],
   "source": [
    "df5 = pd.DataFrame([['Joe', 98], ['Helen', 80], ['Allen',90], ['Jack', 87]], columns=['name', 'score'])\n",
    "display_content(df5, '初始值')\n",
    "\n",
    "df5_1 = df5.drop([2,3])\n",
    "display_content(df5_1, '删除行,原数据不变')\n",
    "\n",
    "df5_2 = df5.drop(columns=['score'])\n",
    "display_content(df5_2, '删除列,原数据不变')\n",
    "\n",
    "del df5['score']\n",
    "display_content(df5, '在原数据上删除score列')\n"
   ]
  },
  {
   "cell_type": "markdown",
   "metadata": {},
   "source": [
    "# 计算"
   ]
  },
  {
   "cell_type": "markdown",
   "metadata": {},
   "source": [
    "# 索引"
   ]
  },
  {
   "cell_type": "markdown",
   "metadata": {},
   "source": [
    "## 基本操作"
   ]
  },
  {
   "cell_type": "code",
   "execution_count": null,
   "metadata": {},
   "outputs": [],
   "source": [
    "df71 = pd.DataFrame([[100, 98], [90, 80]], columns=['math', 'english'], index=['Joe', 'Helen'])\n",
    "df71.index.name = 'name'\n",
    "df71.reindex()"
   ]
  },
  {
   "cell_type": "code",
   "execution_count": null,
   "metadata": {},
   "outputs": [],
   "source": [
    "df71"
   ]
  }
 ],
 "metadata": {
  "kernelspec": {
   "display_name": "Python 3 (ipykernel)",
   "language": "python",
   "name": "python3"
  },
  "language_info": {
   "codemirror_mode": {
    "name": "ipython",
    "version": 3
   },
   "file_extension": ".py",
   "mimetype": "text/x-python",
   "name": "python",
   "nbconvert_exporter": "python",
   "pygments_lexer": "ipython3",
   "version": "3.9.7"
  },
  "toc": {
   "base_numbering": 1,
   "nav_menu": {},
   "number_sections": true,
   "sideBar": true,
   "skip_h1_title": false,
   "title_cell": "Table of Contents",
   "title_sidebar": "Contents",
   "toc_cell": false,
   "toc_position": {},
   "toc_section_display": true,
   "toc_window_display": true
  }
 },
 "nbformat": 4,
 "nbformat_minor": 1
}
