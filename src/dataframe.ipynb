{
 "cells": [
  {
   "cell_type": "code",
   "execution_count": null,
   "metadata": {},
   "outputs": [],
   "source": [
    "import pandas as pd\n",
    "import numpy as np\n",
    "from IPython.display import display, HTML,Markdown\n",
    "\n",
    "def display_content(content, title=None, title_style='bold'):\n",
    "    if title is not None:\n",
    "        if title_style == 'bold':\n",
    "            title = f'**{title}**'\n",
    "        display(Markdown(f\"{title}\"))\n",
    "    display(content)\n"
   ]
  },
  {
   "cell_type": "markdown",
   "metadata": {},
   "source": [
    "# 基础属性\n",
    "\n",
    "* 排序的列集合\n",
    "* 行列索引\n",
    "* 共享索性的多个series\n",
    "* 多层索引 高维 \n",
    "* 列元素的类型是一样的，但是行不是，行列不是完全对称的"
   ]
  },
  {
   "cell_type": "code",
   "execution_count": null,
   "metadata": {},
   "outputs": [],
   "source": [
    "df1 = pd.DataFrame({'name': ['Joe', 'Helen'], 'score': [98, 80]})\n",
    "display_content(df1, '初始值')\n",
    "\n",
    "df1_1 = df1.values\n",
    "display_content(df1_1, 'df1的值')\n",
    "\n",
    "df1_2 = df1.columns\n",
    "display_content(df1_2, 'df1的columns')\n",
    "\n",
    "\n",
    "df1_3 = df1.index\n",
    "display_content(df1_3, 'df1的index')\n"
   ]
  },
  {
   "cell_type": "markdown",
   "metadata": {},
   "source": [
    "# 创建"
   ]
  },
  {
   "cell_type": "markdown",
   "metadata": {},
   "source": [
    "## 列集合 字典"
   ]
  },
  {
   "cell_type": "code",
   "execution_count": null,
   "metadata": {},
   "outputs": [],
   "source": [
    "df21_1 = pd.DataFrame({'name': ['Joe', 'Helen'], 'score': [98, 80]})\n",
    "display_content(df21_1, \"通过 {col: [col_value, col_value2]} 创建：<font color=green>pd.DataFrame({'name': ['Joe', 'Helen'], 'score': [98, 80]}) </font>\")\n",
    "\n",
    "df21_2 = pd.DataFrame({'name': ('Joe', 'Helen'), 'score': (98, 80)})\n",
    "display_content(df21_2, \"通过 {col: (col_value, col_value2)} 创建：<font color=green>pd.DataFrame({'name': ('Joe', 'Helen'), 'score': (98, 80)}) </font>\")\n",
    "\n",
    "df21_3 = pd.DataFrame({'math_score': {'Joe':98, 'Helen': 80}, 'english_score': {'Joe':97, 'May': 70}})\n",
    "display_content(df21_3, \"通过 {col: {row_index, col_value}} 创建：<font color=green>pd.DataFrame({'math_score': {'Joe':98, 'Helen': 80}, 'english_score': {'Joe':97, 'May': 70}}) </font>\")\n",
    "\n",
    "s21_4 = pd.Series([90, 80], index=['Joe', 'Helen'])\n",
    "df21_4 = pd.DataFrame({'score': s21_4})\n",
    "display_content(df21_4, \"通过 {col: series} 创建：<font color=green>pd.DataFrame({'score': pd.Series([90, 80], index=['Joe', 'Helen'])})</font>\")\n"
   ]
  },
  {
   "cell_type": "markdown",
   "metadata": {},
   "source": [
    "## 行集合 列表"
   ]
  },
  {
   "cell_type": "code",
   "execution_count": null,
   "metadata": {},
   "outputs": [],
   "source": [
    "s22_1 = pd.DataFrame([['Joe', 98], ['Helen', 80]], columns=['name', 'score'])\n",
    "display_content(s22_1, \"通过 2d array 创建：<font color=green>pd.DataFrame([['Joe', 98], ['Helen', 80]], columns=['name', 'score'])</font>\")\n",
    "\n",
    "s22_2 = pd.DataFrame([[98, 99], [80, 70]], columns=['math', 'english'], index=['Joe', 'Helen'])\n",
    "display_content(s22_2, \"通过 2d array with hindex 创建：<font color=green>pd.DataFrame([['Joe', 98], ['Helen', 80]], columns=['name', 'score'])</font>\")\n"
   ]
  },
  {
   "cell_type": "markdown",
   "metadata": {},
   "source": [
    "## 通过已有数据创建"
   ]
  },
  {
   "cell_type": "code",
   "execution_count": null,
   "metadata": {},
   "outputs": [],
   "source": [
    "s23 = pd.DataFrame([['Joe', 98], ['Helen', 80]], columns=['name', 'score'])\n",
    "\n",
    "s23_1 = pd.DataFrame(s23)\n",
    "display_content(s23_1, \"通过已有数据创建<font color=green>pd.DataFrame(s23)</font>\")"
   ]
  },
  {
   "cell_type": "markdown",
   "metadata": {},
   "source": [
    "# 访问"
   ]
  },
  {
   "cell_type": "markdown",
   "metadata": {},
   "source": [
    "## 普通访问"
   ]
  },
  {
   "cell_type": "code",
   "execution_count": null,
   "metadata": {},
   "outputs": [],
   "source": [
    "df31 = pd.DataFrame([['Joe', 98, 100], ['Helen', 80, 89], ['Allen',90, 98], ['Jack', 87, 78]], columns=['name', 'math', 'english'])\n",
    "\n",
    "display_content(df31, '初始值')\n",
    "\n",
    "\n",
    "\n",
    "df31_1 = df31['name']\n",
    "display_content(df31_1, '选择单列')\n",
    "\n",
    "\n",
    "df31_2 = df31[['name','math']]\n",
    "display_content(df31_2, '选择指定列')\n",
    "\n",
    "df31_3 = df31[1:2]            \n",
    "display_content(df31_3, '切片选择行')\n",
    "\n",
    "df31_4 = df31[df31['math'] > 90]\n",
    "display_content(df31_4, '布尔选择行')\n",
    "\n",
    "df31_3 = df31[[1,2]]  \n"
   ]
  },
  {
   "cell_type": "markdown",
   "metadata": {},
   "source": [
    "## [numpy 风格](https://wizardforcel.gitbooks.io/pyda-2e/content/img/7178691-64354f2ab777bd8c.png)"
   ]
  },
  {
   "cell_type": "markdown",
   "metadata": {},
   "source": [
    "### loc 标签索引"
   ]
  },
  {
   "cell_type": "code",
   "execution_count": null,
   "metadata": {},
   "outputs": [],
   "source": [
    "df321 = pd.DataFrame([['Joe', 98, 100], ['Helen', 80, 89], ['Allen',90, 98], ['Jack', 87, 78]], columns=['name', 'math', 'english'])\n",
    "df321_1 = df321.set_index('name')\n",
    "display_content(df321_1, '初始值')\n",
    "\n",
    "df321_2 = df321_1.loc['Joe']\n",
    "display_content(df321_1, '选择单行')\n",
    "\n",
    "df321_2 = df321_1.loc[['Joe', 'Helen']]\n",
    "display_content(df321_2, '选择多行')\n",
    "\n",
    "df321_3 = df321_1.loc['Joe':'Helen']\n",
    "display_content(df321_3, '切片选择多行')\n",
    "\n",
    "df321_4 = df321_1.loc[:, 'math']\n",
    "display_content(df321_4, '选择单列')\n",
    "\n",
    "df321_5 = df321_1.loc[:, ['math','english']]\n",
    "display_content(df321_5, '选择多列')\n",
    "\n",
    "df321_6 = df321_1.loc[:, 'math':'english']\n",
    "display_content(df321_6, '切片选择多列')\n",
    "\n",
    "df321_7 = df321_1.loc['Joe':'Helen','math']\n",
    "display_content(df321_7, '混合选择')\n"
   ]
  },
  {
   "cell_type": "markdown",
   "metadata": {},
   "source": [
    "### iloc整数索引"
   ]
  },
  {
   "cell_type": "code",
   "execution_count": null,
   "metadata": {},
   "outputs": [],
   "source": [
    "df322 = pd.DataFrame([['Joe', 98, 100], ['Helen', 80, 89], ['Allen',90, 98], ['Jack', 87, 78]], columns=['name', 'math', 'english'])\n",
    "display_content(df322, '初始值')\n",
    "\n",
    "df322_1 = df322.iloc[0]\n",
    "display_content(df322_1, '选择单行')\n",
    "\n",
    "df322_2 = df322.iloc[[0,1]]\n",
    "display_content(df322_2, '选择多行')\n",
    "\n",
    "df322_3 = df322.iloc[0:2]\n",
    "display_content(df322_3, '切片选择多行')\n",
    "\n",
    "df322_4 = df322.iloc[:,1]\n",
    "display_content(df322_4, '选择单列')\n",
    "\n",
    "df322_5 = df322.iloc[:, [0,1]]\n",
    "display_content(df322_5, '选择多列')\n",
    "\n",
    "df322_6 = df322.iloc[:, 0:1]\n",
    "display_content(df322_6, '切片选择多列')\n",
    "\n",
    "df322_7 = df322.iloc[0,1:2]\n",
    "display_content(df322_7, '混合选择')\n"
   ]
  },
  {
   "cell_type": "markdown",
   "metadata": {},
   "source": [
    "## 其他索引"
   ]
  },
  {
   "cell_type": "code",
   "execution_count": null,
   "metadata": {},
   "outputs": [],
   "source": [
    "df33 = pd.DataFrame([['Joe', 98, 100], ['Helen', 80, 89], ['Allen',90, 98], ['Jack', 87, 78]], columns=['name', 'math', 'english'])\n",
    "\n",
    "display_content(df33, '初始值')\n",
    "\n",
    "display_content(df323.at[0,'name'], \"通过行列标签选择标量\")\n",
    "\n",
    "display_content(df323.iat[1,1], \"通过行列整数索引选择标量\")"
   ]
  },
  {
   "cell_type": "markdown",
   "metadata": {},
   "source": [
    "# 修改"
   ]
  },
  {
   "cell_type": "code",
   "execution_count": null,
   "metadata": {},
   "outputs": [],
   "source": [
    "df4 = pd.DataFrame([['Joe', 98], ['Helen', 80]], columns=['name', 'score'])\n",
    "display_content(df4, \"初始值\")\n",
    "\n",
    "\n",
    "df4_1 = df4.rename(columns={'score': 'math'})\n",
    "display_content(df4_1, \"将score修改为math\")\n",
    "\n",
    "\n",
    "df4_1['english'] = [90, 88]\n",
    "\n",
    "display_content(df4_1, \"增加english列\")\n"
   ]
  },
  {
   "cell_type": "markdown",
   "metadata": {},
   "source": [
    "# 删除"
   ]
  },
  {
   "cell_type": "code",
   "execution_count": null,
   "metadata": {},
   "outputs": [],
   "source": [
    "df5 = pd.DataFrame([['Joe', 98], ['Helen', 80], ['Allen',90], ['Jack', 87]], columns=['name', 'score'])\n",
    "display_content(df5, '初始值')\n",
    "\n",
    "df5_1 = df5.drop([2,3])\n",
    "display_content(df5_1, '删除行,原数据不变')\n",
    "\n",
    "df5_2 = df5.drop([2,3], axis=0)\n",
    "display_content(df5_2, '删除行with axis,原数据不变')\n",
    "\n",
    "df5_3 = df5.drop(columns=['score'])\n",
    "display_content(df5_3, '删除列,原数据不变')\n",
    "\n",
    "df5_4 = df5.drop(['score'], axis=1)\n",
    "display_content(df5_4, '删除列 with axis,原数据不变')\n",
    "\n",
    "df5_5 =  pd.DataFrame(df5)\n",
    "df5_5.drop([1], inplace=True)\n",
    "display_content(df5_5, '在元数据中删除第1行')\n",
    "\n",
    "del df5['score']\n",
    "display_content(df5, '在原数据上删除score列')\n"
   ]
  },
  {
   "cell_type": "markdown",
   "metadata": {},
   "source": [
    "# 计算"
   ]
  },
  {
   "cell_type": "markdown",
   "metadata": {},
   "source": [
    "## 数据计算"
   ]
  },
  {
   "cell_type": "markdown",
   "metadata": {},
   "source": [
    "### 基础计算（built-in）"
   ]
  },
  {
   "cell_type": "code",
   "execution_count": null,
   "metadata": {},
   "outputs": [],
   "source": [
    "df611 = pd.DataFrame([['Joe', 98, 100], ['Helen', 80, 89], ['Allen',90, 98], ['Jack', 87, 78]], columns=['name', 'math', 'english'])\n",
    "df611 = df611.set_index('name')\n",
    "display_content(df611, '初始值')\n",
    "\n",
    "\n",
    "df611_1 = df611 + 10\n",
    "display_content(df611_1, '基础标量计算(加法)：<font color=green>df611 + 10</font>')\n",
    "\n",
    "df611_2 = df611 **2\n",
    "display_content(df611_2, '基础标量计算(指数)：<font color=green>df611 **2</font>')\n",
    "\n",
    "df611_3 = df611 > 90\n",
    "display_content(df611_3, '基础标量计算(比较): <font color=green>df611 > 90</font>')\n",
    "\n",
    "df611_4 = ~df611_3\n",
    "display_content(df611_4, '基础标量计算(取反): <font color=green>~df611_3</font>')\n",
    "\n",
    "\n",
    "df611_5 = 'math' in df611\n",
    "display_content(df611_5, '基础标量计算(in):<font color=green>\\'math\\' in df611</font>判断<font color=green>column</font>是否存在')\n",
    "\n",
    "df611_6 = 'Joe' in df611.index\n",
    "display_content(df611_6, '基础标量计算(in): <font color=green>\\'Joe\\' in df611.index</font>判断<font color=green>index</font>是否存在')\n",
    "\n",
    "df611_7 = 100 in df611.values\n",
    "display_content(df611_7, '基础标量计算(in): <font color=green>100 in df611.values</font>判断<font color=green>values</font>是否存在')\n",
    "\n",
    "\n",
    "df611_8 = df611 + pd.Series({'math': 10, 'english': -10})\n",
    "display_content(df611_8, '基础向量计算: <font color=green>df611 + pd.Series({\\'math\\': 10, \\'english\\': -10})</font> 每行与Series相加， 按照column对齐')\n",
    "\n",
    "\n",
    "df611_9 = df611 + df611\n",
    "display_content(df611_9, '基础向量计算：<font color=green>df611 + df611</font>与Dataframe相加，自动按行列对齐')\n",
    "\n"
   ]
  },
  {
   "cell_type": "markdown",
   "metadata": {},
   "source": [
    "### 通用函数计算"
   ]
  },
  {
   "cell_type": "code",
   "execution_count": 327,
   "metadata": {},
   "outputs": [
    {
     "data": {
      "text/markdown": [
       "**初始值**"
      ],
      "text/plain": [
       "<IPython.core.display.Markdown object>"
      ]
     },
     "metadata": {},
     "output_type": "display_data"
    },
    {
     "data": {
      "text/html": [
       "<div>\n",
       "<style scoped>\n",
       "    .dataframe tbody tr th:only-of-type {\n",
       "        vertical-align: middle;\n",
       "    }\n",
       "\n",
       "    .dataframe tbody tr th {\n",
       "        vertical-align: top;\n",
       "    }\n",
       "\n",
       "    .dataframe thead th {\n",
       "        text-align: right;\n",
       "    }\n",
       "</style>\n",
       "<table border=\"1\" class=\"dataframe\">\n",
       "  <thead>\n",
       "    <tr style=\"text-align: right;\">\n",
       "      <th></th>\n",
       "      <th>math</th>\n",
       "      <th>english</th>\n",
       "    </tr>\n",
       "    <tr>\n",
       "      <th>name</th>\n",
       "      <th></th>\n",
       "      <th></th>\n",
       "    </tr>\n",
       "  </thead>\n",
       "  <tbody>\n",
       "    <tr>\n",
       "      <th>Joe</th>\n",
       "      <td>98</td>\n",
       "      <td>100</td>\n",
       "    </tr>\n",
       "    <tr>\n",
       "      <th>Helen</th>\n",
       "      <td>80</td>\n",
       "      <td>89</td>\n",
       "    </tr>\n",
       "    <tr>\n",
       "      <th>Allen</th>\n",
       "      <td>90</td>\n",
       "      <td>98</td>\n",
       "    </tr>\n",
       "    <tr>\n",
       "      <th>Jack</th>\n",
       "      <td>87</td>\n",
       "      <td>78</td>\n",
       "    </tr>\n",
       "  </tbody>\n",
       "</table>\n",
       "</div>"
      ],
      "text/plain": [
       "       math  english\n",
       "name                \n",
       "Joe      98      100\n",
       "Helen    80       89\n",
       "Allen    90       98\n",
       "Jack     87       78"
      ]
     },
     "metadata": {},
     "output_type": "display_data"
    },
    {
     "data": {
      "text/markdown": [
       "**np函数计算:<font color=green> np.sqrt(df612)</font>**"
      ],
      "text/plain": [
       "<IPython.core.display.Markdown object>"
      ]
     },
     "metadata": {},
     "output_type": "display_data"
    },
    {
     "data": {
      "text/html": [
       "<div>\n",
       "<style scoped>\n",
       "    .dataframe tbody tr th:only-of-type {\n",
       "        vertical-align: middle;\n",
       "    }\n",
       "\n",
       "    .dataframe tbody tr th {\n",
       "        vertical-align: top;\n",
       "    }\n",
       "\n",
       "    .dataframe thead th {\n",
       "        text-align: right;\n",
       "    }\n",
       "</style>\n",
       "<table border=\"1\" class=\"dataframe\">\n",
       "  <thead>\n",
       "    <tr style=\"text-align: right;\">\n",
       "      <th></th>\n",
       "      <th>math</th>\n",
       "      <th>english</th>\n",
       "    </tr>\n",
       "    <tr>\n",
       "      <th>name</th>\n",
       "      <th></th>\n",
       "      <th></th>\n",
       "    </tr>\n",
       "  </thead>\n",
       "  <tbody>\n",
       "    <tr>\n",
       "      <th>Joe</th>\n",
       "      <td>9.899495</td>\n",
       "      <td>10.000000</td>\n",
       "    </tr>\n",
       "    <tr>\n",
       "      <th>Helen</th>\n",
       "      <td>8.944272</td>\n",
       "      <td>9.433981</td>\n",
       "    </tr>\n",
       "    <tr>\n",
       "      <th>Allen</th>\n",
       "      <td>9.486833</td>\n",
       "      <td>9.899495</td>\n",
       "    </tr>\n",
       "    <tr>\n",
       "      <th>Jack</th>\n",
       "      <td>9.327379</td>\n",
       "      <td>8.831761</td>\n",
       "    </tr>\n",
       "  </tbody>\n",
       "</table>\n",
       "</div>"
      ],
      "text/plain": [
       "           math    english\n",
       "name                      \n",
       "Joe    9.899495  10.000000\n",
       "Helen  8.944272   9.433981\n",
       "Allen  9.486833   9.899495\n",
       "Jack   9.327379   8.831761"
      ]
     },
     "metadata": {},
     "output_type": "display_data"
    },
    {
     "data": {
      "text/markdown": [
       "**pd函数计算:<font color=green> pd.isnull(df612)</font>**"
      ],
      "text/plain": [
       "<IPython.core.display.Markdown object>"
      ]
     },
     "metadata": {},
     "output_type": "display_data"
    },
    {
     "data": {
      "text/html": [
       "<div>\n",
       "<style scoped>\n",
       "    .dataframe tbody tr th:only-of-type {\n",
       "        vertical-align: middle;\n",
       "    }\n",
       "\n",
       "    .dataframe tbody tr th {\n",
       "        vertical-align: top;\n",
       "    }\n",
       "\n",
       "    .dataframe thead th {\n",
       "        text-align: right;\n",
       "    }\n",
       "</style>\n",
       "<table border=\"1\" class=\"dataframe\">\n",
       "  <thead>\n",
       "    <tr style=\"text-align: right;\">\n",
       "      <th></th>\n",
       "      <th>math</th>\n",
       "      <th>english</th>\n",
       "    </tr>\n",
       "    <tr>\n",
       "      <th>name</th>\n",
       "      <th></th>\n",
       "      <th></th>\n",
       "    </tr>\n",
       "  </thead>\n",
       "  <tbody>\n",
       "    <tr>\n",
       "      <th>Joe</th>\n",
       "      <td>False</td>\n",
       "      <td>False</td>\n",
       "    </tr>\n",
       "    <tr>\n",
       "      <th>Helen</th>\n",
       "      <td>False</td>\n",
       "      <td>False</td>\n",
       "    </tr>\n",
       "    <tr>\n",
       "      <th>Allen</th>\n",
       "      <td>False</td>\n",
       "      <td>False</td>\n",
       "    </tr>\n",
       "    <tr>\n",
       "      <th>Jack</th>\n",
       "      <td>False</td>\n",
       "      <td>False</td>\n",
       "    </tr>\n",
       "  </tbody>\n",
       "</table>\n",
       "</div>"
      ],
      "text/plain": [
       "        math  english\n",
       "name                 \n",
       "Joe    False    False\n",
       "Helen  False    False\n",
       "Allen  False    False\n",
       "Jack   False    False"
      ]
     },
     "metadata": {},
     "output_type": "display_data"
    },
    {
     "data": {
      "text/markdown": [
       "**dataframe函数计算:<font color=green> df612.count()</font>**"
      ],
      "text/plain": [
       "<IPython.core.display.Markdown object>"
      ]
     },
     "metadata": {},
     "output_type": "display_data"
    },
    {
     "data": {
      "text/plain": [
       "math       4\n",
       "english    4\n",
       "dtype: int64"
      ]
     },
     "metadata": {},
     "output_type": "display_data"
    },
    {
     "data": {
      "text/markdown": [
       "**dataframe与datafraem相加:<font color=green>df612.add(df612)</font>**"
      ],
      "text/plain": [
       "<IPython.core.display.Markdown object>"
      ]
     },
     "metadata": {},
     "output_type": "display_data"
    },
    {
     "data": {
      "text/html": [
       "<div>\n",
       "<style scoped>\n",
       "    .dataframe tbody tr th:only-of-type {\n",
       "        vertical-align: middle;\n",
       "    }\n",
       "\n",
       "    .dataframe tbody tr th {\n",
       "        vertical-align: top;\n",
       "    }\n",
       "\n",
       "    .dataframe thead th {\n",
       "        text-align: right;\n",
       "    }\n",
       "</style>\n",
       "<table border=\"1\" class=\"dataframe\">\n",
       "  <thead>\n",
       "    <tr style=\"text-align: right;\">\n",
       "      <th></th>\n",
       "      <th>math</th>\n",
       "      <th>english</th>\n",
       "    </tr>\n",
       "    <tr>\n",
       "      <th>name</th>\n",
       "      <th></th>\n",
       "      <th></th>\n",
       "    </tr>\n",
       "  </thead>\n",
       "  <tbody>\n",
       "    <tr>\n",
       "      <th>Joe</th>\n",
       "      <td>196</td>\n",
       "      <td>200</td>\n",
       "    </tr>\n",
       "    <tr>\n",
       "      <th>Helen</th>\n",
       "      <td>160</td>\n",
       "      <td>178</td>\n",
       "    </tr>\n",
       "    <tr>\n",
       "      <th>Allen</th>\n",
       "      <td>180</td>\n",
       "      <td>196</td>\n",
       "    </tr>\n",
       "    <tr>\n",
       "      <th>Jack</th>\n",
       "      <td>174</td>\n",
       "      <td>156</td>\n",
       "    </tr>\n",
       "  </tbody>\n",
       "</table>\n",
       "</div>"
      ],
      "text/plain": [
       "       math  english\n",
       "name                \n",
       "Joe     196      200\n",
       "Helen   160      178\n",
       "Allen   180      196\n",
       "Jack    174      156"
      ]
     },
     "metadata": {},
     "output_type": "display_data"
    },
    {
     "data": {
      "text/markdown": [
       "**s612_1**"
      ],
      "text/plain": [
       "<IPython.core.display.Markdown object>"
      ]
     },
     "metadata": {},
     "output_type": "display_data"
    },
    {
     "data": {
      "text/plain": [
       "math       10\n",
       "english     5\n",
       "dtype: int64"
      ]
     },
     "metadata": {},
     "output_type": "display_data"
    },
    {
     "data": {
      "text/markdown": [
       "**dataframe与series相加:<font color=green>df612.add(s612_1)</font>**"
      ],
      "text/plain": [
       "<IPython.core.display.Markdown object>"
      ]
     },
     "metadata": {},
     "output_type": "display_data"
    },
    {
     "data": {
      "text/html": [
       "<div>\n",
       "<style scoped>\n",
       "    .dataframe tbody tr th:only-of-type {\n",
       "        vertical-align: middle;\n",
       "    }\n",
       "\n",
       "    .dataframe tbody tr th {\n",
       "        vertical-align: top;\n",
       "    }\n",
       "\n",
       "    .dataframe thead th {\n",
       "        text-align: right;\n",
       "    }\n",
       "</style>\n",
       "<table border=\"1\" class=\"dataframe\">\n",
       "  <thead>\n",
       "    <tr style=\"text-align: right;\">\n",
       "      <th></th>\n",
       "      <th>math</th>\n",
       "      <th>english</th>\n",
       "    </tr>\n",
       "    <tr>\n",
       "      <th>name</th>\n",
       "      <th></th>\n",
       "      <th></th>\n",
       "    </tr>\n",
       "  </thead>\n",
       "  <tbody>\n",
       "    <tr>\n",
       "      <th>Joe</th>\n",
       "      <td>108</td>\n",
       "      <td>105</td>\n",
       "    </tr>\n",
       "    <tr>\n",
       "      <th>Helen</th>\n",
       "      <td>90</td>\n",
       "      <td>94</td>\n",
       "    </tr>\n",
       "    <tr>\n",
       "      <th>Allen</th>\n",
       "      <td>100</td>\n",
       "      <td>103</td>\n",
       "    </tr>\n",
       "    <tr>\n",
       "      <th>Jack</th>\n",
       "      <td>97</td>\n",
       "      <td>83</td>\n",
       "    </tr>\n",
       "  </tbody>\n",
       "</table>\n",
       "</div>"
      ],
      "text/plain": [
       "       math  english\n",
       "name                \n",
       "Joe     108      105\n",
       "Helen    90       94\n",
       "Allen   100      103\n",
       "Jack     97       83"
      ]
     },
     "metadata": {},
     "output_type": "display_data"
    },
    {
     "data": {
      "text/markdown": [
       "**s612_2**"
      ],
      "text/plain": [
       "<IPython.core.display.Markdown object>"
      ]
     },
     "metadata": {},
     "output_type": "display_data"
    },
    {
     "data": {
      "text/plain": [
       "Joe      10\n",
       "Helen     5\n",
       "dtype: int64"
      ]
     },
     "metadata": {},
     "output_type": "display_data"
    },
    {
     "data": {
      "text/markdown": [
       "**dataframe与series相加:<font color=green>df612.add(s612_2, axis=1)</font>**"
      ],
      "text/plain": [
       "<IPython.core.display.Markdown object>"
      ]
     },
     "metadata": {},
     "output_type": "display_data"
    },
    {
     "data": {
      "text/html": [
       "<div>\n",
       "<style scoped>\n",
       "    .dataframe tbody tr th:only-of-type {\n",
       "        vertical-align: middle;\n",
       "    }\n",
       "\n",
       "    .dataframe tbody tr th {\n",
       "        vertical-align: top;\n",
       "    }\n",
       "\n",
       "    .dataframe thead th {\n",
       "        text-align: right;\n",
       "    }\n",
       "</style>\n",
       "<table border=\"1\" class=\"dataframe\">\n",
       "  <thead>\n",
       "    <tr style=\"text-align: right;\">\n",
       "      <th></th>\n",
       "      <th>math</th>\n",
       "      <th>english</th>\n",
       "    </tr>\n",
       "  </thead>\n",
       "  <tbody>\n",
       "    <tr>\n",
       "      <th>Allen</th>\n",
       "      <td>NaN</td>\n",
       "      <td>NaN</td>\n",
       "    </tr>\n",
       "    <tr>\n",
       "      <th>Helen</th>\n",
       "      <td>85.0</td>\n",
       "      <td>94.0</td>\n",
       "    </tr>\n",
       "    <tr>\n",
       "      <th>Jack</th>\n",
       "      <td>NaN</td>\n",
       "      <td>NaN</td>\n",
       "    </tr>\n",
       "    <tr>\n",
       "      <th>Joe</th>\n",
       "      <td>108.0</td>\n",
       "      <td>110.0</td>\n",
       "    </tr>\n",
       "  </tbody>\n",
       "</table>\n",
       "</div>"
      ],
      "text/plain": [
       "        math  english\n",
       "Allen    NaN      NaN\n",
       "Helen   85.0     94.0\n",
       "Jack     NaN      NaN\n",
       "Joe    108.0    110.0"
      ]
     },
     "metadata": {},
     "output_type": "display_data"
    },
    {
     "data": {
      "text/markdown": [
       "**dataframe与series相加带填充值:<font color=green>df612.add(s612_2, axis=1)</font>**"
      ],
      "text/plain": [
       "<IPython.core.display.Markdown object>"
      ]
     },
     "metadata": {},
     "output_type": "display_data"
    },
    {
     "data": {
      "text/html": [
       "<div>\n",
       "<style scoped>\n",
       "    .dataframe tbody tr th:only-of-type {\n",
       "        vertical-align: middle;\n",
       "    }\n",
       "\n",
       "    .dataframe tbody tr th {\n",
       "        vertical-align: top;\n",
       "    }\n",
       "\n",
       "    .dataframe thead th {\n",
       "        text-align: right;\n",
       "    }\n",
       "</style>\n",
       "<table border=\"1\" class=\"dataframe\">\n",
       "  <thead>\n",
       "    <tr style=\"text-align: right;\">\n",
       "      <th></th>\n",
       "      <th>math</th>\n",
       "      <th>english</th>\n",
       "    </tr>\n",
       "    <tr>\n",
       "      <th>name</th>\n",
       "      <th></th>\n",
       "      <th></th>\n",
       "    </tr>\n",
       "  </thead>\n",
       "  <tbody>\n",
       "    <tr>\n",
       "      <th>Joe</th>\n",
       "      <td>196</td>\n",
       "      <td>200</td>\n",
       "    </tr>\n",
       "    <tr>\n",
       "      <th>Helen</th>\n",
       "      <td>160</td>\n",
       "      <td>178</td>\n",
       "    </tr>\n",
       "    <tr>\n",
       "      <th>Allen</th>\n",
       "      <td>180</td>\n",
       "      <td>196</td>\n",
       "    </tr>\n",
       "    <tr>\n",
       "      <th>Jack</th>\n",
       "      <td>174</td>\n",
       "      <td>156</td>\n",
       "    </tr>\n",
       "  </tbody>\n",
       "</table>\n",
       "</div>"
      ],
      "text/plain": [
       "       math  english\n",
       "name                \n",
       "Joe     196      200\n",
       "Helen   160      178\n",
       "Allen   180      196\n",
       "Jack    174      156"
      ]
     },
     "metadata": {},
     "output_type": "display_data"
    }
   ],
   "source": [
    "df612 = pd.DataFrame([['Joe', 98, 100], ['Helen', 80, 89], ['Allen',90, 98], ['Jack', 87, 78]], columns=['name', 'math', 'english'])\n",
    "df612 = df612.set_index('name')\n",
    "display_content(df612, '初始值')\n",
    "\n",
    "df612_2 = np.sqrt(df612)\n",
    "display_content(df612_2, 'np函数计算:<font color=green> np.sqrt(df612)</font>')\n",
    "\n",
    "df612_3 = pd.isnull(df612)\n",
    "display_content(df612_3, 'pd函数计算:<font color=green> pd.isnull(df612)</font>')\n",
    "\n",
    "df612_4 = df612.count()\n",
    "display_content(df612_4, 'dataframe函数计算:<font color=green> df612.count()</font>')\n",
    "\n",
    "df612_5 = df612.add(df612)\n",
    "display_content(df612_5, 'dataframe与datafraem相加:<font color=green>df612.add(df612)</font>')\n",
    "\n",
    "s612_1 = pd.Series({'math': 10, 'english': 5})\n",
    "display_content(s612_1, 's612_1')\n",
    "df612_6 = df612.add(s612_1)\n",
    "display_content(df612_6, 'dataframe与series相加:<font color=green>df612.add(s612_1)</font>')\n",
    "\n",
    "s612_2 = pd.Series({'Joe': 10, 'Helen': 5})\n",
    "display_content(s612_2, 's612_2')\n",
    "df612_7 = df612.add(s612_2, axis='index')\n",
    "display_content(df612_7, 'dataframe与series相加:<font color=green>df612.add(s612_2, axis=1)</font>')\n",
    "\n"
   ]
  },
  {
   "cell_type": "markdown",
   "metadata": {},
   "source": [
    "## 统计计算"
   ]
  },
  {
   "cell_type": "markdown",
   "metadata": {},
   "source": [
    "###  DataFrame 自带统计函数"
   ]
  },
  {
   "cell_type": "code",
   "execution_count": null,
   "metadata": {},
   "outputs": [],
   "source": [
    "df621 = pd.DataFrame([['Joe', 98, 100], ['Helen', 80, 89], ['Allen',90, 98], ['Jack', 87, 78]], columns=['name', 'math', 'english'])\n",
    "df621 = df621.set_index('name')\n",
    "\n",
    "display_content(df621, '初始值')\n",
    "\n",
    "df621_1 = df621.sum()\n",
    "display_content(df621_1, '按列求和')\n",
    "\n",
    "df621_2 = df621.sum(axis=1)\n",
    "display_content(df621_2, '按行求和')\n",
    "\n",
    "df621_3 = df621.mean()\n",
    "display_content(df621_3, '按列求平均')\n",
    "\n",
    "\n",
    "df621_4 = df621.mean(axis=1)\n",
    "display_content(df621_4, '按行求平均')\n",
    "# np.sum(df621)\n"
   ]
  },
  {
   "cell_type": "markdown",
   "metadata": {},
   "source": [
    "### np统计函数"
   ]
  },
  {
   "cell_type": "code",
   "execution_count": null,
   "metadata": {},
   "outputs": [],
   "source": [
    "df622 = pd.DataFrame([['Joe', 98, 100], ['Helen', 80, 89], ['Allen',90, 98], ['Jack', 87, 78]], columns=['name', 'math', 'english'])\n",
    "df622 = df622.set_index('name')\n",
    "\n",
    "display_content(df622, '初始值')\n",
    "\n",
    "df622_1 = np.sum(df622)\n",
    "display_content(df622_1, '按列求和')\n",
    "\n",
    "df622_2 = np.sum(df622, axis=1)\n",
    "display_content(df622_2, '按行求和')\n",
    "\n",
    "df622_3 = np.mean(df622)\n",
    "display_content(df622_3, '按列求平均')\n",
    "\n",
    "\n",
    "df622_4 = np.mean(df622, axis=1)\n",
    "display_content(df622_4, '按行求平均')\n",
    "\n",
    "np.cumsum(df622)\n"
   ]
  },
  {
   "cell_type": "markdown",
   "metadata": {},
   "source": [
    "# 索引"
   ]
  },
  {
   "cell_type": "markdown",
   "metadata": {},
   "source": [
    "## 基本操作"
   ]
  },
  {
   "cell_type": "code",
   "execution_count": null,
   "metadata": {},
   "outputs": [],
   "source": [
    "df71 = pd.DataFrame([[100, 98], [90, 80], [87, 76]], columns=['math', 'english'], index=['Joe', 'Helen', 'May'])\n",
    "display_content(df71, '初始值')\n",
    "\n",
    "df71_1 = df71.reindex(['Helen', 'Joe', 'Alice'])\n",
    "display_content(df71_1, '重新index')\n",
    "\n",
    "df71_2 = df71.reindex(columns=['english', 'math', 'history'])\n",
    "display_content(df71_2, '按column重新index')\n",
    "\n",
    "\n",
    "df71_3 = df71.reindex(['Helen', 'Joe', 'Alice'],fill_value=60)\n",
    "display_content(df71_3, '重新index,带默认填充值')\n",
    "\n",
    "\n",
    "df71_4 = df71.reset_index()\n",
    "df71_4 = df71_4.reindex(range(5), method='ffill')\n",
    "display_content(df71_4, '重新index,向前填充，index必须是monotonic')"
   ]
  },
  {
   "cell_type": "markdown",
   "metadata": {},
   "source": [
    "# 数据处理专题"
   ]
  },
  {
   "cell_type": "markdown",
   "metadata": {},
   "source": [
    "## 排序与排名"
   ]
  },
  {
   "cell_type": "code",
   "execution_count": null,
   "metadata": {},
   "outputs": [],
   "source": [
    "df81 = pd.DataFrame([[100, 98], [90, 80], [87, 80]], columns=['math', 'english'], index=['Joe', 'Helen', 'May'])\n",
    "display_content(df71, '初始值')\n",
    "\n",
    "df81_1 = df81.sort_index()\n",
    "display_content(df81_1, '按index排序')\n",
    "\n",
    "df81_2 = df81.sort_values(by='math', ascending=False)\n",
    "display_content(df81_2, '按math的值倒序')\n",
    "\n",
    "\n",
    "\n",
    "df81_3 = df81.rank(ascending=False)\n",
    "display_content(df81_3, '按value进行排名')\n",
    "\n",
    "df81_4 = df81.sort_values(by='Joe', axis=1)\n",
    "display_content(df81_4, '按纵轴排序')\n",
    "\n",
    "df81_5 = df81.rank(ascending=False, method='max')\n",
    "display_content(df81_5, '按value进行排名,平分策略为max')\n",
    " \n",
    "df81_6 = df81.rank(ascending=False, method='min')\n",
    "display_content(df81_6, '按value进行排名,平分策略为min')    "
   ]
  },
  {
   "cell_type": "markdown",
   "metadata": {},
   "source": [
    "## 空值处理"
   ]
  },
  {
   "cell_type": "code",
   "execution_count": null,
   "metadata": {},
   "outputs": [],
   "source": [
    "df82 = pd.DataFrame([[100, 98, 99], [90, None, 95], [None, 76, 87], [None, None, None]], columns=['math', 'english', 'history'], index=['Joe', 'Helen', 'May', 'Alice'])\n",
    "# df82['music'] = np.NaN\n",
    "\n",
    "display_content(df82, '初始值')\n",
    "\n",
    "df82_1 = df82.dropna()\n",
    "display_content(df82_1, 'dropna: <font color=\\'green\\'>df82.dropna()</font>默认按行删除，行内存在na')\n",
    "\n",
    "\n",
    "df82_2 = df82.dropna(axis=1)\n",
    "display_content(df82_2, 'dropna: <font color=\\'green\\'>df82.dropna(axis=1)</font>按列删除，列内存在na')\n",
    "\n",
    "df82_3 = df82.dropna(how='all')\n",
    "display_content(df82_3, 'dropna: <font color=\\'green\\'>df82.dropna(how=\\'all\\')</font>按行删除，行所有值在na')\n",
    "\n",
    "\n",
    "df82_4 = df82.fillna(60)\n",
    "display_content(df82_4, '用60填充空值')\n"
   ]
  },
  {
   "cell_type": "markdown",
   "metadata": {},
   "source": [
    "## 字符串处理"
   ]
  },
  {
   "cell_type": "code",
   "execution_count": null,
   "metadata": {},
   "outputs": [],
   "source": [
    "df83 = pd.DataFrame({'name': ['Helen', 'Allen', 'Sam'], 'popluation': ['CHN', 'USA', 'GEM'], 'role': ['manager', 'dev', 'qa']})\n",
    "\n",
    "display_content(df83, '初始值')\n",
    "\n",
    "\n",
    "df83['role'] = df83['role'].str.capitalize()\n",
    "display_content(df83, 'compitalize role')\n",
    "\n",
    "\n",
    "df83.columns = df83.columns.str.upper()\n",
    "display_content(df83, '大写columns')\n",
    "\n"
   ]
  },
  {
   "cell_type": "markdown",
   "metadata": {},
   "source": [
    "## 自定义映射函数"
   ]
  },
  {
   "cell_type": "code",
   "execution_count": null,
   "metadata": {},
   "outputs": [],
   "source": [
    "df84 = pd.DataFrame([[100, 98, 99], [90, 85, 95], [58, 76, 87]], columns=['math', 'english', 'history'], index=['Joe', 'Helen', 'May'])\n",
    "display_content(df84, '初始值')\n",
    "\n",
    "def grade(x):\n",
    "    if x >= 90:\n",
    "        return '优秀'\n",
    "    elif x >= 80:\n",
    "        return '良好'\n",
    "    elif x >=60:\n",
    "        return '及格'\n",
    "    else:\n",
    "        return '不及格'\n",
    "    \n",
    "df84_1  = df84.applymap(grade)\n",
    "display_content(df84_1, 'cell 映射')\n",
    "\n",
    "def sum(x):\n",
    "    return np.sum(x)\n",
    "    \n",
    "df84_1 = df84.apply(sum)\n",
    "display_content(df84_1, '按index轴agg')\n",
    "\n",
    "df84_2 = df84.apply(sum,axis=1)\n",
    "display_content(df84_1, '按column轴agg')"
   ]
  },
  {
   "cell_type": "markdown",
   "metadata": {},
   "source": [
    "## 重复处理"
   ]
  },
  {
   "cell_type": "code",
   "execution_count": null,
   "metadata": {},
   "outputs": [],
   "source": [
    "df85 = pd.DataFrame([[100, 99, 97], [90, 85, 97], [90, 76, 87], [90, 76, 87]], columns=['math', 'english', 'history'], index=['Joe', 'Helen', 'May', 'Alice'])\n",
    "display_content(df85, '初始值')\n",
    "\n",
    "df85_1 = df85.duplicated()\n",
    "display_content(df85_1, '找到重复的记录,默认策略，第一条为False,第二条开始为True')\n",
    "\n",
    "df85_2 = df85.duplicated(subset=['history'])\n",
    "display_content(df85_2, '找到重复的记录,根据history判断')\n",
    "\n",
    "\n",
    "df85_3 = df85.duplicated(keep='last')\n",
    "display_content(df85_3, '找到重复的记录,策略为最后一条标记为False，其他为True')\n",
    "\n",
    "df85_4 = df85.duplicated(keep=False)\n",
    "display_content(df85_4, '找到重复的记录,策略所有都比较为True')"
   ]
  }
 ],
 "metadata": {
  "kernelspec": {
   "display_name": "Python 3 (ipykernel)",
   "language": "python",
   "name": "python3"
  },
  "language_info": {
   "codemirror_mode": {
    "name": "ipython",
    "version": 3
   },
   "file_extension": ".py",
   "mimetype": "text/x-python",
   "name": "python",
   "nbconvert_exporter": "python",
   "pygments_lexer": "ipython3",
   "version": "3.9.7"
  },
  "toc": {
   "base_numbering": 1,
   "nav_menu": {},
   "number_sections": true,
   "sideBar": true,
   "skip_h1_title": false,
   "title_cell": "Table of Contents",
   "title_sidebar": "Contents",
   "toc_cell": false,
   "toc_position": {
    "height": "calc(100% - 180px)",
    "left": "10px",
    "top": "150px",
    "width": "302.398px"
   },
   "toc_section_display": true,
   "toc_window_display": true
  }
 },
 "nbformat": 4,
 "nbformat_minor": 1
}
