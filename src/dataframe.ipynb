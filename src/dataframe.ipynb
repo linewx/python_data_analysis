{
 "cells": [
  {
   "cell_type": "code",
   "execution_count": null,
   "metadata": {},
   "outputs": [],
   "source": [
    "import pandas as pd\n",
    "import numpy as np\n",
    "from IPython.display import display, HTML,Markdown\n",
    "\n",
    "def display_content(content, title=None, title_style='bold'):\n",
    "    if title is not None:\n",
    "        if title_style == 'bold':\n",
    "            title = f'**{title}**'\n",
    "        display(Markdown(f\"{title}\"))\n",
    "    display(content)\n"
   ]
  },
  {
   "cell_type": "markdown",
   "metadata": {},
   "source": [
    "# 基础属性\n",
    "\n",
    "* 排序的列集合\n",
    "* 行列索引\n",
    "* 共享索性的多个series\n",
    "* 多层索引 高维 \n",
    "* 列元素的类型是一样的，但是行不是，行列不是完全对称的"
   ]
  },
  {
   "cell_type": "markdown",
   "metadata": {},
   "source": [
    "# 创建"
   ]
  },
  {
   "cell_type": "markdown",
   "metadata": {},
   "source": [
    "## 列集合 字典"
   ]
  },
  {
   "cell_type": "code",
   "execution_count": null,
   "metadata": {},
   "outputs": [],
   "source": [
    "df21_1 = pd.DataFrame({'name': ['Joe', 'Helen'], 'score': [98, 80]})\n",
    "display_content(df21_1, \"通过 {col: [col_value, col_value2]} 创建：<font color=green>pd.DataFrame({'name': ['Joe', 'Helen'], 'score': [98, 80]}) </font>\")\n",
    "\n",
    "df21_2 = pd.DataFrame({'name': ('Joe', 'Helen'), 'score': (98, 80)})\n",
    "display_content(df21_2, \"通过 {col: (col_value, col_value2)} 创建：<font color=green>pd.DataFrame({'name': ('Joe', 'Helen'), 'score': (98, 80)}) </font>\")\n",
    "\n",
    "df21_3 = pd.DataFrame({'math_score': {'Joe':98, 'Helen': 80}, 'english_score': {'Joe':97, 'May': 70}})\n",
    "display_content(df21_3, \"通过 {col: {row_index, col_value}} 创建：<font color=green>pd.DataFrame({'math_score': {'Joe':98, 'Helen': 80}, 'english_score': {'Joe':97, 'May': 70}}) </font>\")\n",
    "\n",
    "s21_4 = pd.Series([90, 80], index=['Joe', 'Helen'])\n",
    "df21_4 = pd.DataFrame({'score': s21_4})\n",
    "display_content(df21_4, \"通过 {col: series} 创建：<font color=green>pd.DataFrame({'score': pd.Series([90, 80], index=['Joe', 'Helen'])})</font>\")\n"
   ]
  },
  {
   "cell_type": "markdown",
   "metadata": {},
   "source": [
    "## 行集合 列表"
   ]
  },
  {
   "cell_type": "code",
   "execution_count": null,
   "metadata": {},
   "outputs": [],
   "source": [
    "s22_1 = pd.DataFrame([['Joe', 98], ['Helen', 80]], columns=['name', 'score'])\n",
    "display_content(s22_1, \"通过 2d array 创建：<font color=green>pd.DataFrame([['Joe', 98], ['Helen', 80]], columns=['name', 'score'])</font>\")\n",
    "\n",
    "s22_2 = pd.DataFrame([[98, 99], [80, 70]], columns=['math', 'english'], index=['Joe', 'Helen'])\n",
    "display_content(s22_2, \"通过 2d array with hindex 创建：<font color=green>pd.DataFrame([['Joe', 98], ['Helen', 80]], columns=['name', 'score'])</font>\")\n"
   ]
  },
  {
   "cell_type": "markdown",
   "metadata": {},
   "source": [
    "## 通过已有数据创建"
   ]
  },
  {
   "cell_type": "code",
   "execution_count": null,
   "metadata": {},
   "outputs": [],
   "source": [
    "s23 = pd.DataFrame([['Joe', 98], ['Helen', 80]], columns=['name', 'score'])\n",
    "\n",
    "s23_1 = pd.DataFrame(s23)\n",
    "display_content(s23_1, \"通过已有数据创建<font color=green>pd.DataFrame(s23)</font>\")"
   ]
  },
  {
   "cell_type": "markdown",
   "metadata": {},
   "source": [
    "# 访问"
   ]
  },
  {
   "cell_type": "code",
   "execution_count": null,
   "metadata": {},
   "outputs": [],
   "source": [
    "# 3.1 "
   ]
  },
  {
   "cell_type": "markdown",
   "metadata": {},
   "source": [
    "# 修改"
   ]
  },
  {
   "cell_type": "markdown",
   "metadata": {},
   "source": [
    "# 删除"
   ]
  },
  {
   "cell_type": "markdown",
   "metadata": {},
   "source": [
    "# 计算"
   ]
  }
 ],
 "metadata": {
  "kernelspec": {
   "display_name": "Python 3 (ipykernel)",
   "language": "python",
   "name": "python3"
  },
  "language_info": {
   "codemirror_mode": {
    "name": "ipython",
    "version": 3
   },
   "file_extension": ".py",
   "mimetype": "text/x-python",
   "name": "python",
   "nbconvert_exporter": "python",
   "pygments_lexer": "ipython3",
   "version": "3.9.7"
  },
  "toc": {
   "base_numbering": 1,
   "nav_menu": {},
   "number_sections": true,
   "sideBar": true,
   "skip_h1_title": false,
   "title_cell": "Table of Contents",
   "title_sidebar": "Contents",
   "toc_cell": false,
   "toc_position": {},
   "toc_section_display": true,
   "toc_window_display": true
  }
 },
 "nbformat": 4,
 "nbformat_minor": 1
}
