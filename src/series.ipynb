{
 "cells": [
  {
   "cell_type": "code",
   "execution_count": null,
   "metadata": {},
   "outputs": [],
   "source": [
    "import pandas as pd\n",
    "import numpy as np\n",
    "from IPython.display import display, HTML,Markdown\n",
    "\n",
    "def display_content(content, title=None, title_style='bold'):\n",
    "    if title is not None:\n",
    "        if title_style == 'bold':\n",
    "            title = f'**{title}**'\n",
    "        display(Markdown(f\"{title}\"))\n",
    "    display(content)\n"
   ]
  },
  {
   "cell_type": "markdown",
   "metadata": {},
   "source": [
    "# 基本属性\n",
    "--------------\n",
    "\n",
    "* 值序列\n",
    "* 索引\n",
    "* 类似字典\n",
    "\n",
    "## 值序列"
   ]
  },
  {
   "cell_type": "code",
   "execution_count": null,
   "metadata": {
    "pycharm": {
     "name": "#%%\n"
    }
   },
   "outputs": [],
   "source": [
    "s11 = pd.Series(range(5))\n",
    "\n",
    "display_content(s11.values, '值序列')"
   ]
  },
  {
   "cell_type": "markdown",
   "metadata": {
    "pycharm": {
     "name": "#%% md\n"
    }
   },
   "source": [
    "## 索引"
   ]
  },
  {
   "cell_type": "code",
   "execution_count": null,
   "metadata": {
    "pycharm": {
     "name": "#%%\n"
    }
   },
   "outputs": [],
   "source": [
    "s12 = pd.Series(range(5), index=list(\"abcde\"))\n",
    "display_content(s12.index,  '索引')"
   ]
  },
  {
   "cell_type": "markdown",
   "metadata": {
    "pycharm": {
     "name": "#%% md\n"
    }
   },
   "source": [
    "## 类似字典"
   ]
  },
  {
   "cell_type": "code",
   "execution_count": null,
   "metadata": {
    "pycharm": {
     "name": "#%%\n"
    }
   },
   "outputs": [],
   "source": [
    "s13 = pd.Series({'a': 1, 'b': 2, 'c':3})\n",
    "display_content(s13, 's13初始值')\n",
    "display_content(s13['a'], \"<font color=green>s13['a']</font> 取index为a的值\")\n"
   ]
  },
  {
   "cell_type": "markdown",
   "metadata": {
    "pycharm": {
     "name": "#%% md\n"
    }
   },
   "source": [
    "# 创建"
   ]
  },
  {
   "cell_type": "markdown",
   "metadata": {
    "pycharm": {
     "name": "#%% md\n"
    }
   },
   "source": [
    "## 值序列 + 索引"
   ]
  },
  {
   "cell_type": "code",
   "execution_count": null,
   "metadata": {
    "pycharm": {
     "name": "#%%\n"
    }
   },
   "outputs": [],
   "source": [
    "s21 = pd.Series([1,2,3], index=['a', 'b', 'c'])\n",
    "display_content(s21, '值序列+索引的创建例子')"
   ]
  },
  {
   "cell_type": "markdown",
   "metadata": {
    "pycharm": {
     "name": "#%% md\n"
    }
   },
   "source": [
    "## 2.2 通过字典创建"
   ]
  },
  {
   "cell_type": "code",
   "execution_count": null,
   "metadata": {
    "pycharm": {
     "name": "#%%\n"
    }
   },
   "outputs": [],
   "source": [
    "s22 = pd.Series({'a': 1, 'b': 2, 'c': 3})\n",
    "display_content(s22, \"通过字典创建的例子：<font color=green>pd.Series({'a': 1, 'b': 2, 'c': 3} </font>\")"
   ]
  },
  {
   "cell_type": "markdown",
   "metadata": {
    "pycharm": {
     "name": "#%% md\n"
    }
   },
   "source": [
    "# 访问"
   ]
  },
  {
   "cell_type": "markdown",
   "metadata": {
    "pycharm": {
     "name": "#%% md\n"
    }
   },
   "source": [
    "## 整数索引"
   ]
  },
  {
   "cell_type": "code",
   "execution_count": null,
   "metadata": {
    "pycharm": {
     "name": "#%%\n"
    }
   },
   "outputs": [],
   "source": [
    "s31 = pd.Series({'Joe': 100, 'Helen': 98, 'Jack': 87, 'Allen': 90, 'May': 78})\n",
    "display_content(s31, '**初始值**')\n",
    "\n",
    "s31_1 = s31[1] # 返回单个元素\n",
    "display_content(s31_1, '**<font color=green>s31[1]</font> 通过单个整数索引返回单个元素**')\n",
    "\n",
    "s31_2 = s31[1:3] # 返回Series\n",
    "display_content(s31_2, '**<font color=green>s31[1:3]</font> 通过切片选择元素**')\n",
    "\n",
    "s31_3 = s31[1:2] # 返回Series，虽然是一个元素\n",
    "display_content(s31_3, '**<font color=green>s31[1:2]</font> 通过切片选择元素，即使是仅返回一个元素**')\n",
    "# 31['Helen':]) #"
   ]
  },
  {
   "cell_type": "markdown",
   "metadata": {},
   "source": [
    "## 布尔索引"
   ]
  },
  {
   "cell_type": "code",
   "execution_count": null,
   "metadata": {
    "pycharm": {
     "name": "#%%\n"
    }
   },
   "outputs": [],
   "source": [
    "s32 = pd.Series({'Joe': 100, 'Helen': 98, 'Jack': 87, 'Allen': 90, 'May': 78})\n",
    "s321 = s32[s32 > 90]\n",
    "\n",
    "display_content(s32, '初始值 <font color=green>s32</font>:')\n",
    "display_content(s32 > 90, '**<font color=green>s32>90</font> 返回布尔Series:**')\n",
    "display_content(s32[s32>90], '**<font color=green>s32[s32>90]</font> 通过布尔索引选择元素:**')"
   ]
  },
  {
   "cell_type": "markdown",
   "metadata": {},
   "source": [
    "## 标签索引"
   ]
  },
  {
   "cell_type": "code",
   "execution_count": null,
   "metadata": {
    "pycharm": {
     "name": "#%%\n"
    }
   },
   "outputs": [],
   "source": [
    "s33 = pd.Series({'Joe': 100, 'Helen': 98, 'Jack': 87, 'Allen': 90, 'May': 78})\n",
    "display_content(s33, '初始值 <font color=green>s33</font>')\n",
    "\n",
    "s33_1 = s33['Helen']\n",
    "display_content(s33['Helen'], \"<font color=green>s33['Helen']</font> 通过标签选择单个元素\")\n",
    "\n",
    "s33_2 = s33[['Helen', 'Jack']]\n",
    "display_content(s33[['Helen', 'Jack']], \"<font color=green>s33[['Helen', 'Jack']]</font> 通过标签数组选择多个元素\")\n",
    "\n",
    "s33_3 = s33['Helen':'May']        \n",
    "display_content(s33['Helen':'May'], \"<font color=green>s33['Helen':'May']</font> 通过标签切片选择多个元素\")"
   ]
  },
  {
   "cell_type": "markdown",
   "metadata": {},
   "source": [
    "# 修改"
   ]
  },
  {
   "cell_type": "code",
   "execution_count": null,
   "metadata": {},
   "outputs": [],
   "source": [
    "s4 = pd.Series({'Joe': 100, 'Helen': 98, 'Jack': 87, 'Allen': 90, 'May': 78})\n",
    "\n",
    "display_content(s4, \"初始值\")\n",
    "\n",
    "\n",
    "s4['May'] = 80\n",
    "display_content(s4, \"修改了某个值 <font color=green>s4['May'] = 80</font>\")\n",
    "\n",
    "s4['Eason'] = 95\n",
    "display_content(s4, \"增加了一条记录 <font color=green>s4['Eason']</font>\")\n",
    "\n"
   ]
  },
  {
   "cell_type": "markdown",
   "metadata": {},
   "source": [
    "# 删除"
   ]
  },
  {
   "cell_type": "code",
   "execution_count": 136,
   "metadata": {},
   "outputs": [
    {
     "data": {
      "text/markdown": [
       "**初始值**"
      ],
      "text/plain": [
       "<IPython.core.display.Markdown object>"
      ]
     },
     "metadata": {},
     "output_type": "display_data"
    },
    {
     "data": {
      "text/plain": [
       "Joe      100\n",
       "Helen     98\n",
       "Jack      87\n",
       "Allen     90\n",
       "May       78\n",
       "dtype: int64"
      ]
     },
     "metadata": {},
     "output_type": "display_data"
    },
    {
     "data": {
      "text/markdown": [
       "**生成删除记录后的数据**"
      ],
      "text/plain": [
       "<IPython.core.display.Markdown object>"
      ]
     },
     "metadata": {},
     "output_type": "display_data"
    },
    {
     "data": {
      "text/plain": [
       "Joe     100\n",
       "Jack     87\n",
       "May      78\n",
       "dtype: int64"
      ]
     },
     "metadata": {},
     "output_type": "display_data"
    },
    {
     "data": {
      "text/markdown": [
       "**在原数据上删除一条记录**"
      ],
      "text/plain": [
       "<IPython.core.display.Markdown object>"
      ]
     },
     "metadata": {},
     "output_type": "display_data"
    },
    {
     "data": {
      "text/plain": [
       "Joe      100\n",
       "Helen     98\n",
       "Jack      87\n",
       "Allen     90\n",
       "dtype: int64"
      ]
     },
     "metadata": {},
     "output_type": "display_data"
    }
   ],
   "source": [
    "s5 = pd.Series({'Joe': 100, 'Helen': 98, 'Jack': 87, 'Allen': 90, 'May': 78})\n",
    "\n",
    "display_content(s5, \"初始值\")\n",
    "\n",
    "\n",
    "s5_1 = s5.drop(['Helen', 'Allen'])\n",
    "display_content(s5_1, '删除记录后，原数据不变')\n",
    "\n",
    "del s5['May']\n",
    "display_content(s5, \"在原数据上删除一条记录\")\n",
    "\n"
   ]
  },
  {
   "cell_type": "markdown",
   "metadata": {},
   "source": [
    "# 计算"
   ]
  },
  {
   "cell_type": "markdown",
   "metadata": {},
   "source": [
    "## 数学计算"
   ]
  },
  {
   "cell_type": "markdown",
   "metadata": {},
   "source": [
    "### 基础计算（Built-in）"
   ]
  },
  {
   "cell_type": "code",
   "execution_count": null,
   "metadata": {},
   "outputs": [],
   "source": [
    "s611 = pd.Series({'Joe': 100, 'Helen': 98, 'Jack': 87, 'Allen': 90, 'May': 78})\n",
    "display_content(s611, '初始值 <font color=green>s611</font>')\n",
    "\n",
    "s611_b = pd.Series({'Joe': 90, 'Helen': 92, 'May': 80})\n",
    "display_content(s611_b, '初始值b <font color=green>s611_b</font>')\n",
    "                \n",
    "\n",
    "s611_1 = s611 + 10\n",
    "display_content(s611_1, '基础标量计算: <font color=green>s611 + 10</font>  *二元 + 一元 = 二元*')\n",
    "\n",
    "\n",
    "s611_2 = s611 ** 2\n",
    "display_content(s611_2, '标量计算(平方): <font color=green>s611 ** 2</font>  *二元 + 一元 = 二元*')\n",
    "\n",
    "\n",
    "s611_3 = s611 > 90\n",
    "display_content(s611_3, '标量计算(比较): <font color=green>s611 > 90</font>  *二元 + 一元 = 二元*')\n",
    "\n",
    "\n",
    "\n",
    "s611_4 = s611 + s611_b\n",
    "display_content(s611_4, '基础向量计算（自动对齐）: <font color=green>s611 + s611_b</font>  *二元 + 二元 = 二元*')\n",
    "\n",
    "s611_5 = 'Joe' in s611\n",
    "display_content(s611_5, \"in 符号计算: <font color=green>'Joe' in s611</font>, 判断key是否存在，类似dict\")\n",
    "\n",
    "\n",
    "s611_6 = 100 in s611.values\n",
    "display_content(s611_6, \"in 符号计算: <font color=green>100 in s611.values</font>, 判断值是否存在，类似dict\")\n",
    "\n",
    "s611_7 = ~s611_3\n",
    "display_content(s611_7, '标量计算(取反): <font color=green>~(s611 > 90)</font>  *二元 + 一元 = 二元*')"
   ]
  },
  {
   "cell_type": "markdown",
   "metadata": {},
   "source": [
    "### 通用函数计算"
   ]
  },
  {
   "cell_type": "code",
   "execution_count": null,
   "metadata": {},
   "outputs": [],
   "source": [
    "s612 = pd.Series({'Joe': 100, 'Helen': 98, 'Jack': 87, 'Allen': 90, 'May': None})\n",
    "\n",
    "display_content(s612, '初始值 <font color=green>s612</font>')\n",
    "\n",
    "s612_2 = np.sqrt(s612)\n",
    "display_content(s612_2, '函数计算:<font color=green> np.sqrt(s612)</font>')\n",
    "\n",
    "s612_3 = pd.isnull(s612)\n",
    "display_content(s612_3, '函数计算:<font color=green> pd.isnull(s612)</font>')\n",
    "\n",
    "\n"
   ]
  },
  {
   "cell_type": "markdown",
   "metadata": {},
   "source": [
    "## 统计计算"
   ]
  },
  {
   "cell_type": "markdown",
   "metadata": {},
   "source": [
    "### Series 自带统计函数"
   ]
  },
  {
   "cell_type": "code",
   "execution_count": null,
   "metadata": {},
   "outputs": [],
   "source": [
    "s621 = pd.Series({'Joe': 100, 'Helen': 98, 'Jack': 87, 'Allen': 90, 'May': None})\n",
    "\n",
    "display_content(s621, '初始值 <font color=green>s621</font>')\n",
    "\n",
    "s621_1 = s621.max()\n",
    "display_content(s621_1, '最大值 <font color=green>s621.max()</font>')\n",
    "\n",
    "s621_2 = s621.min()\n",
    "display_content(s621_2, '最小值 <font color=green>s621.min()</font>')\n",
    "\n",
    "s621_3 = s621.mean()\n",
    "display_content(s62_3, '平均值 <font color=green>s621.mean()</font>')\n",
    "\n",
    "s621_4 = s621.std()\n",
    "display_content(s62_4, '标准差 <font color=green>s621.std()</font>')\n",
    "\n",
    "s621_5 = s621.sum()\n",
    "display_content(s621_5, '和 <font color=green>s621.sum()</font>')\n",
    "\n",
    "\n",
    "s621_6 = s621.prod()\n",
    "display_content(s621_6, '积 <font color=green>s621.prod()</font>')\n",
    "\n",
    "s621_7 = s621.cumsum()\n",
    "display_content(s621_7, '累计计算和 <font color=green>s621.cumsum()</font>')\n",
    "\n"
   ]
  },
  {
   "cell_type": "markdown",
   "metadata": {},
   "source": [
    "### np统计函数"
   ]
  },
  {
   "cell_type": "code",
   "execution_count": null,
   "metadata": {},
   "outputs": [],
   "source": [
    "s622 = pd.Series({'Joe': 100, 'Helen': 98, 'Jack': 87, 'Allen': 90, 'May': None})\n",
    "display_content(s622, '初始值 <font color=green>s622</font>')\n",
    "\n",
    "s622_1 = np.sum(s622)\n",
    "display_content(s622_1, '和 <font color=green>np.sum(s622)</font>')\n",
    "\n",
    "s622_2 = np.prod(s622)\n",
    "display_content(s622_2, '积 <font color=green>np.prod(s622)</font>')\n",
    "\n",
    "s622_3 = np.cumsum(s622)\n",
    "display_content(s622_3, '累积计算 <font color=green>np.cumsum(s622)</font>')\n"
   ]
  },
  {
   "cell_type": "markdown",
   "metadata": {},
   "source": [
    "# 索引"
   ]
  },
  {
   "cell_type": "markdown",
   "metadata": {},
   "source": [
    "## 基本操作"
   ]
  },
  {
   "cell_type": "code",
   "execution_count": 129,
   "metadata": {},
   "outputs": [
    {
     "data": {
      "text/markdown": [
       "**初始值**"
      ],
      "text/plain": [
       "<IPython.core.display.Markdown object>"
      ]
     },
     "metadata": {},
     "output_type": "display_data"
    },
    {
     "data": {
      "text/plain": [
       "0    100\n",
       "2     98\n",
       "4     87\n",
       "dtype: int64"
      ]
     },
     "metadata": {},
     "output_type": "display_data"
    },
    {
     "data": {
      "text/markdown": [
       "**重建索引**"
      ],
      "text/plain": [
       "<IPython.core.display.Markdown object>"
      ]
     },
     "metadata": {},
     "output_type": "display_data"
    },
    {
     "data": {
      "text/plain": [
       "0    100.0\n",
       "1      NaN\n",
       "2     98.0\n",
       "3      NaN\n",
       "4     87.0\n",
       "5      NaN\n",
       "dtype: float64"
      ]
     },
     "metadata": {},
     "output_type": "display_data"
    },
    {
     "data": {
      "text/markdown": [
       "**重建索引:向后填充**"
      ],
      "text/plain": [
       "<IPython.core.display.Markdown object>"
      ]
     },
     "metadata": {},
     "output_type": "display_data"
    },
    {
     "data": {
      "text/plain": [
       "0    100\n",
       "1    100\n",
       "2     98\n",
       "3     98\n",
       "4     87\n",
       "5     87\n",
       "dtype: int64"
      ]
     },
     "metadata": {},
     "output_type": "display_data"
    },
    {
     "data": {
      "text/markdown": [
       "**重建索引:向后填充**"
      ],
      "text/plain": [
       "<IPython.core.display.Markdown object>"
      ]
     },
     "metadata": {},
     "output_type": "display_data"
    },
    {
     "data": {
      "text/plain": [
       "0    100\n",
       "1     60\n",
       "2     98\n",
       "3     60\n",
       "4     87\n",
       "5     60\n",
       "dtype: int64"
      ]
     },
     "metadata": {},
     "output_type": "display_data"
    }
   ],
   "source": [
    "s71 = pd.Series([100, 98, 87], index=[0,2,4])\n",
    "\n",
    "display_content(s71, '初始值')\n",
    "\n",
    "s71_1 = s71.reindex(range(6))\n",
    "display_content(s71_1, '重建索引')\n",
    "\n",
    "s71_2 = s71.reindex(range(6), method='ffill')\n",
    "display_content(s71_2, '重建索引:向后填充')\n",
    "\n",
    "s71_3 = s71.reindex(range(6), fill_value=60)\n",
    "display_content(s71_3, '重建索引:默认填充')\n"
   ]
  }
 ],
 "metadata": {
  "kernelspec": {
   "display_name": "Python 3 (ipykernel)",
   "language": "python",
   "name": "python3"
  },
  "language_info": {
   "codemirror_mode": {
    "name": "ipython",
    "version": 3
   },
   "file_extension": ".py",
   "mimetype": "text/x-python",
   "name": "python",
   "nbconvert_exporter": "python",
   "pygments_lexer": "ipython3",
   "version": "3.9.7"
  },
  "toc": {
   "base_numbering": 1,
   "nav_menu": {},
   "number_sections": true,
   "sideBar": true,
   "skip_h1_title": false,
   "title_cell": "Table of Contents",
   "title_sidebar": "Contents",
   "toc_cell": false,
   "toc_position": {
    "height": "calc(100% - 180px)",
    "left": "10px",
    "top": "150px",
    "width": "302.391px"
   },
   "toc_section_display": true,
   "toc_window_display": true
  }
 },
 "nbformat": 4,
 "nbformat_minor": 1
}
