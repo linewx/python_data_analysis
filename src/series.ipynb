{
 "cells": [
  {
   "cell_type": "code",
   "execution_count": null,
   "metadata": {},
   "outputs": [],
   "source": [
    "import pandas as pd\n",
    "import numpy as np\n",
    "from IPython.display import display, HTML,Markdown\n",
    "\n",
    "def display_content(content, title=None, title_style='bold'):\n",
    "    if title is not None:\n",
    "        if title_style == 'bold':\n",
    "            title = f'**{title}**'\n",
    "        display(Markdown(f\"{title}\"))\n",
    "    display(content)\n"
   ]
  },
  {
   "cell_type": "markdown",
   "metadata": {},
   "source": [
    "# 基本属性\n",
    "--------------\n",
    "\n",
    "* 值序列\n",
    "* 索引\n",
    "* 类似字典\n",
    "\n",
    "## 值序列"
   ]
  },
  {
   "cell_type": "code",
   "execution_count": null,
   "metadata": {
    "pycharm": {
     "name": "#%%\n"
    }
   },
   "outputs": [],
   "source": [
    "s11 = pd.Series(range(5))\n",
    "\n",
    "display_content(s11.values, '值序列')"
   ]
  },
  {
   "cell_type": "markdown",
   "metadata": {
    "pycharm": {
     "name": "#%% md\n"
    }
   },
   "source": [
    "## 索引"
   ]
  },
  {
   "cell_type": "code",
   "execution_count": null,
   "metadata": {
    "pycharm": {
     "name": "#%%\n"
    }
   },
   "outputs": [],
   "source": [
    "s12 = pd.Series(range(5), index=list(\"abcde\"))\n",
    "display_content(s12.index,  '索引')"
   ]
  },
  {
   "cell_type": "markdown",
   "metadata": {
    "pycharm": {
     "name": "#%% md\n"
    }
   },
   "source": [
    "## 类似字典"
   ]
  },
  {
   "cell_type": "code",
   "execution_count": null,
   "metadata": {
    "pycharm": {
     "name": "#%%\n"
    }
   },
   "outputs": [],
   "source": [
    "s13 = pd.Series({'a': 1, 'b': 2, 'c':3})\n",
    "display_content(s13, 's13初始值')\n",
    "display_content(s13['a'], \"<font color=green>s13['a']</font> 取index为a的值\")\n"
   ]
  },
  {
   "cell_type": "markdown",
   "metadata": {
    "pycharm": {
     "name": "#%% md\n"
    }
   },
   "source": [
    "# 创建"
   ]
  },
  {
   "cell_type": "markdown",
   "metadata": {
    "pycharm": {
     "name": "#%% md\n"
    }
   },
   "source": [
    "## 值序列 + 索引"
   ]
  },
  {
   "cell_type": "code",
   "execution_count": null,
   "metadata": {
    "pycharm": {
     "name": "#%%\n"
    }
   },
   "outputs": [],
   "source": [
    "s21 = pd.Series([1,2,3], index=['a', 'b', 'c'])\n",
    "display_content(s21, '值序列+索引的创建例子')"
   ]
  },
  {
   "cell_type": "markdown",
   "metadata": {
    "pycharm": {
     "name": "#%% md\n"
    }
   },
   "source": [
    "## 2.2 通过字典创建"
   ]
  },
  {
   "cell_type": "code",
   "execution_count": null,
   "metadata": {
    "pycharm": {
     "name": "#%%\n"
    }
   },
   "outputs": [],
   "source": [
    "s22 = pd.Series({'a': 1, 'b': 2, 'c': 3})\n",
    "display_content(s22, \"通过字典创建的例子：<font color=green>pd.Series({'a': 1, 'b': 2, 'c': 3} </font>\")"
   ]
  },
  {
   "cell_type": "markdown",
   "metadata": {
    "pycharm": {
     "name": "#%% md\n"
    }
   },
   "source": [
    "# 访问"
   ]
  },
  {
   "cell_type": "markdown",
   "metadata": {
    "pycharm": {
     "name": "#%% md\n"
    }
   },
   "source": [
    "## 整数索引"
   ]
  },
  {
   "cell_type": "code",
   "execution_count": null,
   "metadata": {
    "pycharm": {
     "name": "#%%\n"
    }
   },
   "outputs": [],
   "source": [
    "s31 = pd.Series({'Joe': 100, 'Helen': 98, 'Jack': 87, 'Allen': 90, 'May': 78})\n",
    "display_content(s31, '**初始值**')\n",
    "\n",
    "s31_1 = s31[1] # 返回单个元素\n",
    "display_content(s31_1, '**<font color=green>s31[1]</font> 通过单个整数索引返回单个元素**')\n",
    "\n",
    "s31_2 = s31[1:3] # 返回Series\n",
    "display_content(s31_2, '**<font color=green>s31[1:3]</font> 通过切片选择元素**')\n",
    "\n",
    "s31_3 = s31[1:2] # 返回Series，虽然是一个元素\n",
    "display_content(s31_3, '**<font color=green>s31[1:2]</font> 通过切片选择元素，即使是仅返回一个元素**')\n",
    "# 31['Helen':]) #"
   ]
  },
  {
   "cell_type": "markdown",
   "metadata": {},
   "source": [
    "## 布尔索引"
   ]
  },
  {
   "cell_type": "code",
   "execution_count": null,
   "metadata": {
    "pycharm": {
     "name": "#%%\n"
    }
   },
   "outputs": [],
   "source": [
    "s32 = pd.Series({'Joe': 100, 'Helen': 98, 'Jack': 87, 'Allen': 90, 'May': 78})\n",
    "s321 = s32[s32 > 90]\n",
    "\n",
    "display_content(s32, '初始值 <font color=green>s32</font>:')\n",
    "display_content(s32 > 90, '**<font color=green>s32>90</font> 返回布尔Series:**')\n",
    "display_content(s32[s32>90], '**<font color=green>s32[s32>90]</font> 通过布尔索引选择元素:**')"
   ]
  },
  {
   "cell_type": "markdown",
   "metadata": {},
   "source": [
    "## 标签索引"
   ]
  },
  {
   "cell_type": "code",
   "execution_count": null,
   "metadata": {
    "pycharm": {
     "name": "#%%\n"
    }
   },
   "outputs": [],
   "source": [
    "s33 = pd.Series({'Joe': 100, 'Helen': 98, 'Jack': 87, 'Allen': 90, 'May': 78})\n",
    "display_content(s33, '初始值 <font color=green>s33</font>')\n",
    "\n",
    "s33_1 = s33['Helen']\n",
    "display_content(s33['Helen'], \"<font color=green>s33['Helen']</font> 通过标签选择单个元素\")\n",
    "\n",
    "s33_2 = s33[['Helen', 'Jack']]\n",
    "display_content(s33[['Helen', 'Jack']], \"<font color=green>s33[['Helen', 'Jack']]</font> 通过标签数组选择多个元素\")\n",
    "\n",
    "s33_3 = s33['Helen':'May']        \n",
    "display_content(s33['Helen':'May'], \"<font color=green>s33['Helen':'May']</font> 通过标签切片选择多个元素\")"
   ]
  },
  {
   "cell_type": "markdown",
   "metadata": {},
   "source": [
    "# 修改"
   ]
  },
  {
   "cell_type": "code",
   "execution_count": null,
   "metadata": {},
   "outputs": [],
   "source": [
    "s4 = pd.Series({'Joe': 100, 'Helen': 98, 'Jack': 87, 'Allen': 90, 'May': 78})\n",
    "\n",
    "display_content(s4, \"初始值\")\n",
    "\n",
    "\n",
    "s4['May'] = 80\n",
    "display_content(s4, \"修改了某个值 <font color=green>s4['May'] = 80</font>\")\n",
    "\n",
    "s4['Eason'] = 95\n",
    "display_content(s4, \"增加了一条记录 <font color=green>s4['Eason']</font>\")\n",
    "\n"
   ]
  },
  {
   "cell_type": "markdown",
   "metadata": {},
   "source": [
    "# 删除"
   ]
  },
  {
   "cell_type": "code",
   "execution_count": null,
   "metadata": {},
   "outputs": [],
   "source": [
    "s5 = pd.Series({'Joe': 100, 'Helen': 98, 'Jack': 87, 'Allen': 90, 'May': 78})\n",
    "\n",
    "display_content(s5, \"初始值\")\n",
    "\n",
    "\n",
    "s5_1 = s5.drop(['Helen', 'Allen'])\n",
    "display_content(s5_1, '删除记录后，原数据不变')\n",
    "\n",
    "del s5['May']\n",
    "display_content(s5, \"在原数据上删除一条记录\")\n",
    "\n"
   ]
  },
  {
   "cell_type": "markdown",
   "metadata": {},
   "source": [
    "# 计算"
   ]
  },
  {
   "cell_type": "markdown",
   "metadata": {},
   "source": [
    "## 数学计算"
   ]
  },
  {
   "cell_type": "markdown",
   "metadata": {},
   "source": [
    "### 基础计算（Built-in）"
   ]
  },
  {
   "cell_type": "code",
   "execution_count": null,
   "metadata": {},
   "outputs": [],
   "source": [
    "s611 = pd.Series({'Joe': 100, 'Helen': 98, 'Jack': 87, 'Allen': 90, 'May': 78})\n",
    "display_content(s611, '初始值 <font color=green>s611</font>')\n",
    "\n",
    "s611_b = pd.Series({'Joe': 90, 'Helen': 92, 'May': 80})\n",
    "display_content(s611_b, '初始值b <font color=green>s611_b</font>')\n",
    "                \n",
    "\n",
    "s611_1 = s611 + 10\n",
    "display_content(s611_1, '基础标量计算: <font color=green>s611 + 10</font>  *二元 + 一元 = 二元*')\n",
    "\n",
    "\n",
    "s611_2 = s611 ** 2\n",
    "display_content(s611_2, '标量计算(平方): <font color=green>s611 ** 2</font>  *二元 + 一元 = 二元*')\n",
    "\n",
    "\n",
    "s611_3 = s611 > 90\n",
    "display_content(s611_3, '标量计算(比较): <font color=green>s611 > 90</font>  *二元 + 一元 = 二元*')\n",
    "\n",
    "\n",
    "\n",
    "s611_4 = s611 + s611_b\n",
    "display_content(s611_4, '基础向量计算（自动对齐）: <font color=green>s611 + s611_b</font>  *二元 + 二元 = 二元*')\n",
    "\n",
    "s611_5 = 'Joe' in s611\n",
    "display_content(s611_5, \"in 符号计算: <font color=green>'Joe' in s611</font>, 判断key是否存在，类似dict\")\n",
    "\n",
    "\n",
    "s611_6 = 100 in s611.values\n",
    "display_content(s611_6, \"in 符号计算: <font color=green>100 in s611.values</font>, 判断值是否存在，类似dict\")\n",
    "\n",
    "s611_7 = ~s611_3\n",
    "display_content(s611_7, '标量计算(取反): <font color=green>~(s611 > 90)</font>  *二元 + 一元 = 二元*')"
   ]
  },
  {
   "cell_type": "markdown",
   "metadata": {},
   "source": [
    "### 通用函数计算"
   ]
  },
  {
   "cell_type": "code",
   "execution_count": null,
   "metadata": {},
   "outputs": [],
   "source": [
    "s612 = pd.Series({'Joe': 100, 'Helen': 98, 'Jack': 87, 'Allen': 90, 'May': None})\n",
    "\n",
    "display_content(s612, '初始值 <font color=green>s612</font>')\n",
    "\n",
    "s612_2 = np.sqrt(s612)\n",
    "display_content(s612_2, 'np函数计算:<font color=green> np.sqrt(s612)</font>')\n",
    "\n",
    "s612_3 = pd.isnull(s612)\n",
    "display_content(s612_3, 'pd函数计算:<font color=green> pd.isnull(s612)</font>')\n",
    "\n",
    "s612_4 = s612.count()\n",
    "display_content(s612_4, 'series函数计算:<font color=green> s612.count()</font>')\n",
    "\n",
    "\n"
   ]
  },
  {
   "cell_type": "markdown",
   "metadata": {},
   "source": [
    "## 统计计算"
   ]
  },
  {
   "cell_type": "markdown",
   "metadata": {},
   "source": [
    "### Series 自带统计函数"
   ]
  },
  {
   "cell_type": "code",
   "execution_count": null,
   "metadata": {},
   "outputs": [],
   "source": [
    "s621 = pd.Series({'Joe': 100, 'Helen': 98, 'Jack': 87, 'Allen': 90, 'May': None})\n",
    "\n",
    "display_content(s621, '初始值 <font color=green>s621</font>')\n",
    "\n",
    "s621_1 = s621.max()\n",
    "display_content(s621_1, '最大值 <font color=green>s621.max()</font>')\n",
    "\n",
    "s621_2 = s621.min()\n",
    "display_content(s621_2, '最小值 <font color=green>s621.min()</font>')\n",
    "\n",
    "s621_3 = s621.mean()\n",
    "display_content(s62_3, '平均值 <font color=green>s621.mean()</font>')\n",
    "\n",
    "s621_4 = s621.std()\n",
    "display_content(s62_4, '标准差 <font color=green>s621.std()</font>')\n",
    "\n",
    "s621_5 = s621.sum()\n",
    "display_content(s621_5, '和 <font color=green>s621.sum()</font>')\n",
    "\n",
    "\n",
    "s621_6 = s621.prod()\n",
    "display_content(s621_6, '积 <font color=green>s621.prod()</font>')\n",
    "\n",
    "s621_7 = s621.cumsum()\n",
    "display_content(s621_7, '累计计算和 <font color=green>s621.cumsum()</font>')\n",
    "\n",
    "s621_8 = pd.Series({'Joe': 97, 'Helen': 84, 'Jack': 79, 'Allen': 90, 'May': 20})\n",
    "\n",
    "s621_9 = s621.corr(s621_8)\n",
    "display_content(s621_9, '相关系数')\n",
    "\n",
    "s621_10 = s621.cov(s621_8)\n",
    "display_content(s621_10, '协方差')\n"
   ]
  },
  {
   "cell_type": "markdown",
   "metadata": {},
   "source": [
    "### np统计函数"
   ]
  },
  {
   "cell_type": "code",
   "execution_count": null,
   "metadata": {},
   "outputs": [],
   "source": [
    "s622 = pd.Series({'Joe': 100, 'Helen': 98, 'Jack': 87, 'Allen': 90, 'May': None})\n",
    "display_content(s622, '初始值 <font color=green>s622</font>')\n",
    "\n",
    "s622_1 = np.sum(s622)\n",
    "display_content(s622_1, '和 <font color=green>np.sum(s622)</font>')\n",
    "\n",
    "s622_2 = np.prod(s622)\n",
    "display_content(s622_2, '积 <font color=green>np.prod(s622)</font>')\n",
    "\n",
    "s622_3 = np.cumsum(s622)\n",
    "display_content(s622_3, '累积计算 <font color=green>np.cumsum(s622)</font>')\n",
    "\n"
   ]
  },
  {
   "cell_type": "markdown",
   "metadata": {},
   "source": [
    "### agg聚合函数"
   ]
  },
  {
   "cell_type": "code",
   "execution_count": null,
   "metadata": {},
   "outputs": [],
   "source": [
    "s623 = pd.Series({'Joe': 100, 'Helen': 98, 'Jack': 87, 'Allen': 90, 'May': None})\n",
    "s623.agg(['mean', 'std', 'count'])"
   ]
  },
  {
   "cell_type": "markdown",
   "metadata": {},
   "source": [
    "# 索引"
   ]
  },
  {
   "cell_type": "markdown",
   "metadata": {},
   "source": [
    "## 基本操作"
   ]
  },
  {
   "cell_type": "code",
   "execution_count": null,
   "metadata": {},
   "outputs": [],
   "source": [
    "s71 = pd.Series([100, 98, 87], index=[0,2,4])\n",
    "\n",
    "display_content(s71, '初始值')\n",
    "\n",
    "s71_1 = s71.reindex(range(6))\n",
    "display_content(s71_1, '重建索引')\n",
    "\n",
    "s71_2 = s71.reindex(range(6), method='ffill')\n",
    "display_content(s71_2, '重建索引:向后填充')\n",
    "\n",
    "s71_3 = s71.reindex(range(6), fill_value=60)\n",
    "display_content(s71_3, '重建索引:默认填充')\n"
   ]
  },
  {
   "cell_type": "markdown",
   "metadata": {},
   "source": [
    "## 多层索引"
   ]
  },
  {
   "cell_type": "code",
   "execution_count": 229,
   "metadata": {},
   "outputs": [
    {
     "data": {
      "text/markdown": [
       "**初始值**"
      ],
      "text/plain": [
       "<IPython.core.display.Markdown object>"
      ]
     },
     "metadata": {},
     "output_type": "display_data"
    },
    {
     "data": {
      "text/plain": [
       "name  subject\n",
       "Joe   math       100\n",
       "      english     98\n",
       "      history     97\n",
       "Bob   math        78\n",
       "      english     67\n",
       "      history     89\n",
       "May   math        59\n",
       "      english     85\n",
       "      history     64\n",
       "dtype: int64"
      ]
     },
     "metadata": {},
     "output_type": "display_data"
    },
    {
     "data": {
      "text/markdown": [
       "**多层索引**"
      ],
      "text/plain": [
       "<IPython.core.display.Markdown object>"
      ]
     },
     "metadata": {},
     "output_type": "display_data"
    },
    {
     "data": {
      "text/plain": [
       "MultiIndex([('Joe',    'math'),\n",
       "            ('Joe', 'english'),\n",
       "            ('Joe', 'history'),\n",
       "            ('Bob',    'math'),\n",
       "            ('Bob', 'english'),\n",
       "            ('Bob', 'history'),\n",
       "            ('May',    'math'),\n",
       "            ('May', 'english'),\n",
       "            ('May', 'history')],\n",
       "           names=['name', 'subject'])"
      ]
     },
     "metadata": {},
     "output_type": "display_data"
    },
    {
     "data": {
      "text/markdown": [
       "**降维成一层索引**"
      ],
      "text/plain": [
       "<IPython.core.display.Markdown object>"
      ]
     },
     "metadata": {},
     "output_type": "display_data"
    },
    {
     "data": {
      "text/plain": [
       "subject\n",
       "math       100\n",
       "english     98\n",
       "history     97\n",
       "dtype: int64"
      ]
     },
     "metadata": {},
     "output_type": "display_data"
    },
    {
     "data": {
      "text/markdown": [
       "**变为二维dataframe**"
      ],
      "text/plain": [
       "<IPython.core.display.Markdown object>"
      ]
     },
     "metadata": {},
     "output_type": "display_data"
    },
    {
     "data": {
      "text/html": [
       "<div>\n",
       "<style scoped>\n",
       "    .dataframe tbody tr th:only-of-type {\n",
       "        vertical-align: middle;\n",
       "    }\n",
       "\n",
       "    .dataframe tbody tr th {\n",
       "        vertical-align: top;\n",
       "    }\n",
       "\n",
       "    .dataframe thead th {\n",
       "        text-align: right;\n",
       "    }\n",
       "</style>\n",
       "<table border=\"1\" class=\"dataframe\">\n",
       "  <thead>\n",
       "    <tr style=\"text-align: right;\">\n",
       "      <th>subject</th>\n",
       "      <th>english</th>\n",
       "      <th>history</th>\n",
       "      <th>math</th>\n",
       "    </tr>\n",
       "    <tr>\n",
       "      <th>name</th>\n",
       "      <th></th>\n",
       "      <th></th>\n",
       "      <th></th>\n",
       "    </tr>\n",
       "  </thead>\n",
       "  <tbody>\n",
       "    <tr>\n",
       "      <th>Bob</th>\n",
       "      <td>67</td>\n",
       "      <td>89</td>\n",
       "      <td>78</td>\n",
       "    </tr>\n",
       "    <tr>\n",
       "      <th>Joe</th>\n",
       "      <td>98</td>\n",
       "      <td>97</td>\n",
       "      <td>100</td>\n",
       "    </tr>\n",
       "    <tr>\n",
       "      <th>May</th>\n",
       "      <td>85</td>\n",
       "      <td>64</td>\n",
       "      <td>59</td>\n",
       "    </tr>\n",
       "  </tbody>\n",
       "</table>\n",
       "</div>"
      ],
      "text/plain": [
       "subject  english  history  math\n",
       "name                           \n",
       "Bob           67       89    78\n",
       "Joe           98       97   100\n",
       "May           85       64    59"
      ]
     },
     "metadata": {},
     "output_type": "display_data"
    },
    {
     "data": {
      "text/markdown": [
       "**变为多层索引的Series**"
      ],
      "text/plain": [
       "<IPython.core.display.Markdown object>"
      ]
     },
     "metadata": {},
     "output_type": "display_data"
    },
    {
     "data": {
      "text/plain": [
       "subject  name\n",
       "english  Bob      67\n",
       "         Joe      98\n",
       "         May      85\n",
       "history  Bob      89\n",
       "         Joe      97\n",
       "         May      64\n",
       "math     Bob      78\n",
       "         Joe     100\n",
       "         May      59\n",
       "dtype: int64"
      ]
     },
     "metadata": {},
     "output_type": "display_data"
    },
    {
     "data": {
      "text/markdown": [
       "**交换索引层级**"
      ],
      "text/plain": [
       "<IPython.core.display.Markdown object>"
      ]
     },
     "metadata": {},
     "output_type": "display_data"
    },
    {
     "data": {
      "text/plain": [
       "subject  name\n",
       "math     Joe     100\n",
       "english  Joe      98\n",
       "history  Joe      97\n",
       "math     Bob      78\n",
       "english  Bob      67\n",
       "history  Bob      89\n",
       "math     May      59\n",
       "english  May      85\n",
       "history  May      64\n",
       "dtype: int64"
      ]
     },
     "metadata": {},
     "output_type": "display_data"
    },
    {
     "data": {
      "text/markdown": [
       "**分层排序**"
      ],
      "text/plain": [
       "<IPython.core.display.Markdown object>"
      ]
     },
     "metadata": {},
     "output_type": "display_data"
    },
    {
     "data": {
      "text/plain": [
       "name  subject\n",
       "Bob   english     67\n",
       "Joe   english     98\n",
       "May   english     85\n",
       "Bob   history     89\n",
       "Joe   history     97\n",
       "May   history     64\n",
       "Bob   math        78\n",
       "Joe   math       100\n",
       "May   math        59\n",
       "dtype: int64"
      ]
     },
     "metadata": {},
     "output_type": "display_data"
    }
   ],
   "source": [
    "s72 = pd.Series([100,98,97, 78, 67, 89, 59, 85, 64], index=[['Joe','Joe','Joe', 'Bob','Bob','Bob', 'May','May','May'], ['math','english', 'history','math', 'english', 'history','math', 'english', 'history']])\n",
    "s72.index.names = ['name', 'subject']\n",
    "display_content(s72, '初始值')\n",
    "\n",
    "s72_1 = s72.index\n",
    "display_content(s72_1, '多层索引')\n",
    "\n",
    "s72_2 = s72['Joe']\n",
    "display_content(s72_2, '降维成一层索引')\n",
    "\n",
    "s72_3 = s72.unstack()\n",
    "display_content(s72_3, '变为二维dataframe')\n",
    "\n",
    "s72_4 = s72_3.unstack()\n",
    "display_content(s72_4, '变为多层索引的Series')\n",
    "\n",
    "s72_5 = s72.swaplevel()\n",
    "display_content(s72_5, '交换索引层级')\n",
    "\n",
    "s72_6 = s72.sort_index(level=1)\n",
    "display_content(s72_6, '分层排序')\n",
    "\n",
    "\n"
   ]
  },
  {
   "cell_type": "markdown",
   "metadata": {},
   "source": [
    "# 数据处理专题"
   ]
  },
  {
   "cell_type": "markdown",
   "metadata": {},
   "source": [
    "## 排序与排名"
   ]
  },
  {
   "cell_type": "code",
   "execution_count": null,
   "metadata": {},
   "outputs": [],
   "source": [
    "s81 = pd.Series({'Joe':100, 'Alice': 98, 'Bob': 87})\n",
    "display_content(s81, '初始值')\n",
    "\n",
    "s81_1 = s81.sort_index()\n",
    "display_content(s81_1, '按index排序')\n",
    "\n",
    "s81_2 = s81.sort_values()\n",
    "display_content(s81_2, '按value排序')\n",
    "\n",
    "s81_3 = s81.sort_values(ascending=False)\n",
    "display_content(s81_3, '按value倒序')\n",
    "\n",
    "s81_4 = s81.rank()\n",
    "display_content(s81_4, '按value排名')\n",
    "\n",
    "\n"
   ]
  },
  {
   "cell_type": "markdown",
   "metadata": {},
   "source": [
    "## 空值处理"
   ]
  },
  {
   "cell_type": "code",
   "execution_count": null,
   "metadata": {},
   "outputs": [],
   "source": [
    "s82 = pd.Series({'Joe':100, 'Alice': 98, 'Bob': 87, 'May': None})\n",
    "display_content(s82, '初始值')\n",
    "\n",
    "s82_1 = s82.dropna()\n",
    "display_content(s82_1, '过滤掉空值')\n",
    "\n",
    "s82_2 = s82.fillna(60)\n",
    "display_content(s82_2, '填充空值')\n",
    "                \n",
    "s82_3 = s82.isnull()\n",
    "display_content(s82_3, '判断是否为null, 返回布尔数组')\n",
    "\n",
    "s82_4 =  s82.notnull()\n",
    "display_content(s82_4, '判断是否为非空, 返回布尔数组')\n"
   ]
  },
  {
   "cell_type": "markdown",
   "metadata": {},
   "source": [
    "## 字符串处理"
   ]
  },
  {
   "cell_type": "code",
   "execution_count": null,
   "metadata": {},
   "outputs": [],
   "source": [
    "s83 = pd.Series(['Joe', 'Helen', 'Alice'])\n",
    "display_content(s83, '初始值')\n",
    "\n",
    "s83_1 = s83.str.lower()\n",
    "display_content(s83_1, '转为小写')\n",
    "\n",
    "s83_2 = s83.str.contains('l')\n",
    "display_content(s83_2, '是否包含')"
   ]
  },
  {
   "cell_type": "markdown",
   "metadata": {},
   "source": [
    "## 自定义映射函数"
   ]
  },
  {
   "cell_type": "code",
   "execution_count": null,
   "metadata": {},
   "outputs": [],
   "source": [
    "s84 = pd.Series({'Joe':100, 'Alice': 78, 'Bob': 87, 'May':58})\n",
    "display_content(s84, '初始值')\n",
    "\n",
    "def grade(x):\n",
    "    if x >= 90:\n",
    "        return '优秀'\n",
    "    elif x >= 80:\n",
    "        return '良好'\n",
    "    elif x >=60:\n",
    "        return '及格'\n",
    "    else:\n",
    "        return '不及格'\n",
    "        \n",
    "s84_1 = s84.map(grade)\n",
    "display_content(s84_1, '映射为grade')\n"
   ]
  },
  {
   "cell_type": "markdown",
   "metadata": {},
   "source": [
    "## 其他常用函数"
   ]
  },
  {
   "cell_type": "code",
   "execution_count": null,
   "metadata": {},
   "outputs": [],
   "source": [
    "s85 = pd.Series({'Joe':100, 'Alice': 78, 'Bob': 87, 'May':78})\n",
    "display_content(s85, '初始值')\n",
    "\n",
    "s85_1 = s85.unique()\n",
    "display_content(s85_1, 'unique值')\n",
    "\n",
    "s85_2 = s85.isin([100, 87])\n",
    "display_content(s85_2, '是否在values中')\n",
    "\n",
    "s85_3 = s85.isin(s85)\n",
    "display_content(s85_3, '是否在values中,values可以是Series')\n",
    "\n",
    "s85_4 = s85.value_counts()\n",
    "display_content(s85_4, 'value_counts')\n",
    "\n",
    "s85_5 = pd.Series([True, False, True, False, True])\n",
    "\n",
    "s85_6 = s85.all()\n",
    "display_content(s85_6, '是否均为true')\n",
    "\n",
    "s85_7 = s85.any()\n",
    "display_content(s85_7, '是否存在true')"
   ]
  }
 ],
 "metadata": {
  "kernelspec": {
   "display_name": "Python 3 (ipykernel)",
   "language": "python",
   "name": "python3"
  },
  "language_info": {
   "codemirror_mode": {
    "name": "ipython",
    "version": 3
   },
   "file_extension": ".py",
   "mimetype": "text/x-python",
   "name": "python",
   "nbconvert_exporter": "python",
   "pygments_lexer": "ipython3",
   "version": "3.9.7"
  },
  "toc": {
   "base_numbering": 1,
   "nav_menu": {},
   "number_sections": true,
   "sideBar": true,
   "skip_h1_title": false,
   "title_cell": "Table of Contents",
   "title_sidebar": "Contents",
   "toc_cell": false,
   "toc_position": {
    "height": "calc(100% - 180px)",
    "left": "10px",
    "top": "150px",
    "width": "302.391px"
   },
   "toc_section_display": true,
   "toc_window_display": true
  }
 },
 "nbformat": 4,
 "nbformat_minor": 1
}
