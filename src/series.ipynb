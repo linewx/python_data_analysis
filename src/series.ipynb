{
 "cells": [
  {
   "cell_type": "code",
   "execution_count": null,
   "metadata": {},
   "outputs": [],
   "source": [
    "import pandas as pd\n",
    "import numpy as np\n",
    "from IPython.display import display, HTML,Markdown\n",
    "\n",
    "def display_content(content, title=None, title_style='bold'):\n",
    "    if title is not None:\n",
    "        if title_style == 'bold':\n",
    "            title = f'**{title}**'\n",
    "        display(Markdown(f\"{title}\"))\n",
    "    display(content)\n"
   ]
  },
  {
   "cell_type": "markdown",
   "metadata": {},
   "source": [
    "# 基本属性\n",
    "--------------\n",
    "\n",
    "* 值序列\n",
    "* 索引\n",
    "* 类似字典\n",
    "\n",
    "## 值序列"
   ]
  },
  {
   "cell_type": "code",
   "execution_count": null,
   "metadata": {
    "pycharm": {
     "name": "#%%\n"
    }
   },
   "outputs": [],
   "source": [
    "s11 = pd.Series(range(5))\n",
    "\n",
    "display_content(s11.values, '值序列')"
   ]
  },
  {
   "cell_type": "markdown",
   "metadata": {
    "pycharm": {
     "name": "#%% md\n"
    }
   },
   "source": [
    "## 索引"
   ]
  },
  {
   "cell_type": "code",
   "execution_count": null,
   "metadata": {
    "pycharm": {
     "name": "#%%\n"
    }
   },
   "outputs": [],
   "source": [
    "s12 = pd.Series(range(5), index=list(\"abcde\"))\n",
    "display_content(s12.index,  '索引')"
   ]
  },
  {
   "cell_type": "markdown",
   "metadata": {
    "pycharm": {
     "name": "#%% md\n"
    }
   },
   "source": [
    "## 类似字典"
   ]
  },
  {
   "cell_type": "code",
   "execution_count": null,
   "metadata": {
    "pycharm": {
     "name": "#%%\n"
    }
   },
   "outputs": [],
   "source": [
    "s13 = pd.Series({'a': 1, 'b': 2, 'c':3})\n",
    "display_content(s13, 's13初始值')\n",
    "display_content(s13['a'], \"<font color=green>s13['a']</font> 取index为a的值\")\n"
   ]
  },
  {
   "cell_type": "markdown",
   "metadata": {
    "pycharm": {
     "name": "#%% md\n"
    }
   },
   "source": [
    "# 创建"
   ]
  },
  {
   "cell_type": "markdown",
   "metadata": {
    "pycharm": {
     "name": "#%% md\n"
    }
   },
   "source": [
    "## 值序列 + 索引"
   ]
  },
  {
   "cell_type": "code",
   "execution_count": null,
   "metadata": {
    "pycharm": {
     "name": "#%%\n"
    }
   },
   "outputs": [],
   "source": [
    "s21 = pd.Series([1,2,3], index=['a', 'b', 'c'])\n",
    "display_content(s21, '值序列+索引的创建例子')"
   ]
  },
  {
   "cell_type": "markdown",
   "metadata": {
    "pycharm": {
     "name": "#%% md\n"
    }
   },
   "source": [
    "## 2.2 通过字典创建"
   ]
  },
  {
   "cell_type": "code",
   "execution_count": 92,
   "metadata": {
    "pycharm": {
     "name": "#%%\n"
    }
   },
   "outputs": [
    {
     "data": {
      "text/markdown": [
       "**通过字典创建的例子：<font color=green>pd.Series({'a': 1, 'b': 2, 'c': 3} </font>**"
      ],
      "text/plain": [
       "<IPython.core.display.Markdown object>"
      ]
     },
     "metadata": {},
     "output_type": "display_data"
    },
    {
     "data": {
      "text/plain": [
       "a    1\n",
       "b    2\n",
       "c    3\n",
       "dtype: int64"
      ]
     },
     "metadata": {},
     "output_type": "display_data"
    }
   ],
   "source": [
    "s22 = pd.Series({'a': 1, 'b': 2, 'c': 3})\n",
    "display_content(s22, \"通过字典创建的例子：<font color=green>pd.Series({'a': 1, 'b': 2, 'c': 3} </font>\")"
   ]
  },
  {
   "cell_type": "markdown",
   "metadata": {
    "pycharm": {
     "name": "#%% md\n"
    }
   },
   "source": [
    "# 访问"
   ]
  },
  {
   "cell_type": "markdown",
   "metadata": {
    "pycharm": {
     "name": "#%% md\n"
    }
   },
   "source": [
    "## 整数索引"
   ]
  },
  {
   "cell_type": "code",
   "execution_count": null,
   "metadata": {
    "pycharm": {
     "name": "#%%\n"
    }
   },
   "outputs": [],
   "source": [
    "s31 = pd.Series({'Joe': 100, 'Helen': 98, 'Jack': 87, 'Allen': 90, 'May': 78})\n",
    "display_content(s31, '**初始值**')\n",
    "\n",
    "s31_1 = s31[1] # 返回单个元素\n",
    "display_content(s31_1, '**<font color=green>s31[1]</font> 通过单个整数索引返回单个元素**')\n",
    "\n",
    "s31_2 = s31[1:3] # 返回Series\n",
    "display_content(s31_2, '**<font color=green>s31[1:3]</font> 通过切片选择元素**')\n",
    "\n",
    "s31_3 = s31[1:2] # 返回Series，虽然是一个元素\n",
    "display_content(s31_3, '**<font color=green>s31[1:2]</font> 通过切片选择元素，即使是仅返回一个元素**')\n",
    "# 31['Helen':]) #"
   ]
  },
  {
   "cell_type": "markdown",
   "metadata": {},
   "source": [
    "## 布尔索引"
   ]
  },
  {
   "cell_type": "code",
   "execution_count": null,
   "metadata": {
    "pycharm": {
     "name": "#%%\n"
    }
   },
   "outputs": [],
   "source": [
    "s32 = pd.Series({'Joe': 100, 'Helen': 98, 'Jack': 87, 'Allen': 90, 'May': 78})\n",
    "s321 = s32[s32 > 90]\n",
    "\n",
    "display_content(s32, '初始值 <font color=green>s32</font>:')\n",
    "display_content(s32 > 90, '**<font color=green>s32>90</font> 返回布尔Series:**')\n",
    "display_content(s32[s32>90], '**<font color=green>s32[s32>90]</font> 通过布尔索引选择元素:**')"
   ]
  },
  {
   "cell_type": "markdown",
   "metadata": {},
   "source": [
    "## 标签索引"
   ]
  },
  {
   "cell_type": "code",
   "execution_count": null,
   "metadata": {
    "pycharm": {
     "name": "#%%\n"
    }
   },
   "outputs": [],
   "source": [
    "s33 = pd.Series({'Joe': 100, 'Helen': 98, 'Jack': 87, 'Allen': 90, 'May': 78})\n",
    "display_content(s33, '初始值 <font color=green>s33</font>')\n",
    "\n",
    "s33_1 = s33['Helen']\n",
    "display_content(s33['Helen'], \"<font color=green>s33['Helen']</font> 通过标签选择单个元素\")\n",
    "\n",
    "s33_2 = s33[['Helen', 'Jack']]\n",
    "display_content(s33[['Helen', 'Jack']], \"<font color=green>s33[['Helen', 'Jack']]</font> 通过标签数组选择多个元素\")\n",
    "\n",
    "s33_3 = s33['Helen':'May']        \n",
    "display_content(s33['Helen':'May'], \"<font color=green>s33['Helen':'May']</font> 通过标签切片选择多个元素\")"
   ]
  },
  {
   "cell_type": "markdown",
   "metadata": {},
   "source": [
    "# 计算"
   ]
  },
  {
   "cell_type": "markdown",
   "metadata": {},
   "source": [
    "## 数学计算"
   ]
  },
  {
   "cell_type": "markdown",
   "metadata": {},
   "source": [
    "### 基础计算（Built-in）"
   ]
  },
  {
   "cell_type": "code",
   "execution_count": null,
   "metadata": {},
   "outputs": [],
   "source": [
    "s441 = pd.Series({'Joe': 100, 'Helen': 98, 'Jack': 87, 'Allen': 90, 'May': 78})\n",
    "display_content(s441, '初始值 <font color=green>s441</font>')\n",
    "\n",
    "s441_b = pd.Series({'Joe': 90, 'Helen': 92, 'May': 80})\n",
    "display_content(s441_b, '初始值b <font color=green>s441_b</font>')\n",
    "                \n",
    "\n",
    "s441_1 = s441 + 10\n",
    "display_content(s441_1, '基础标量计算: <font color=green>s441 + 10</font>  *二元 + 一元 = 二元*')\n",
    "\n",
    "\n",
    "s441_2 = s441 ** 2\n",
    "display_content(s441_2, '标量计算(平方): <font color=green>s441 ** 2</font>  *二元 + 一元 = 二元*')\n",
    "\n",
    "\n",
    "s441_3 = s441 > 90\n",
    "display_content(s441_3, '标量计算(比较): <font color=green>s441 > 90</font>  *二元 + 一元 = 二元*')\n",
    "\n",
    "\n",
    "\n",
    "s441_4 = s441 + s441_b\n",
    "display_content(s441_4, '基础向量计算（自动对齐）: <font color=green>s441 + s441_b</font>  *二元 + 二元 = 二元*')\n",
    "\n",
    "s441_5 = 'Joe' in s441\n",
    "display_content(s441_5, \"in 符号计算: <font color=green>'Joe' in s441</font>, 判断key是否存在，类似dict\")\n",
    "\n",
    "\n",
    "s441_6 = 100 in s441.values\n",
    "display_content(s441_6, \"in 符号计算: <font color=green>100 in s441.values</font>, 判断值是否存在，类似dict\")\n",
    "\n",
    "s441_7 = ~s441_3\n",
    "display_content(s441_7, '标量计算(取反): <font color=green>~(s441 > 90)</font>  *二元 + 一元 = 二元*')"
   ]
  },
  {
   "cell_type": "markdown",
   "metadata": {},
   "source": [
    "### 通用函数计算"
   ]
  },
  {
   "cell_type": "code",
   "execution_count": null,
   "metadata": {},
   "outputs": [],
   "source": [
    "s442 = pd.Series({'Joe': 100, 'Helen': 98, 'Jack': 87, 'Allen': 90, 'May': None})\n",
    "\n",
    "display_content(s442, '初始值 <font color=green>s442</font>')\n",
    "\n",
    "s442_2 = np.sqrt(s442)\n",
    "display_content(s442_2, '函数计算:<font color=green> np.sqrt(s442)</font>')\n",
    "\n",
    "s442_3 = pd.isnull(s442)\n",
    "display_content(s442_3, '函数计算:<font color=green> pd.isnull(s442)</font>')\n",
    "\n",
    "\n"
   ]
  },
  {
   "cell_type": "markdown",
   "metadata": {},
   "source": [
    "## 统计计算"
   ]
  },
  {
   "cell_type": "code",
   "execution_count": 90,
   "metadata": {},
   "outputs": [
    {
     "data": {
      "text/markdown": [
       "**初始值 <font color=green>s42</font>**"
      ],
      "text/plain": [
       "<IPython.core.display.Markdown object>"
      ]
     },
     "metadata": {},
     "output_type": "display_data"
    },
    {
     "data": {
      "text/plain": [
       "Joe      100.0\n",
       "Helen     98.0\n",
       "Jack      87.0\n",
       "Allen     90.0\n",
       "May        NaN\n",
       "dtype: float64"
      ]
     },
     "metadata": {},
     "output_type": "display_data"
    },
    {
     "data": {
      "text/markdown": [
       "**最大值 <font color=green>s42.max()</font>**"
      ],
      "text/plain": [
       "<IPython.core.display.Markdown object>"
      ]
     },
     "metadata": {},
     "output_type": "display_data"
    },
    {
     "data": {
      "text/plain": [
       "100.0"
      ]
     },
     "metadata": {},
     "output_type": "display_data"
    },
    {
     "data": {
      "text/markdown": [
       "**最小值 <font color=green>s42.min()</font>**"
      ],
      "text/plain": [
       "<IPython.core.display.Markdown object>"
      ]
     },
     "metadata": {},
     "output_type": "display_data"
    },
    {
     "data": {
      "text/plain": [
       "87.0"
      ]
     },
     "metadata": {},
     "output_type": "display_data"
    },
    {
     "data": {
      "text/markdown": [
       "**平均值 <font color=green>s42.mean()</font>**"
      ],
      "text/plain": [
       "<IPython.core.display.Markdown object>"
      ]
     },
     "metadata": {},
     "output_type": "display_data"
    },
    {
     "data": {
      "text/plain": [
       "93.75"
      ]
     },
     "metadata": {},
     "output_type": "display_data"
    },
    {
     "data": {
      "text/markdown": [
       "**标准差 <font color=green>s42.std()</font>**"
      ],
      "text/plain": [
       "<IPython.core.display.Markdown object>"
      ]
     },
     "metadata": {},
     "output_type": "display_data"
    },
    {
     "data": {
      "text/plain": [
       "6.238322424070967"
      ]
     },
     "metadata": {},
     "output_type": "display_data"
    },
    {
     "data": {
      "text/markdown": [
       "**和 <font color=green>s42.sum()</font>**"
      ],
      "text/plain": [
       "<IPython.core.display.Markdown object>"
      ]
     },
     "metadata": {},
     "output_type": "display_data"
    },
    {
     "data": {
      "text/plain": [
       "375.0"
      ]
     },
     "metadata": {},
     "output_type": "display_data"
    },
    {
     "data": {
      "text/markdown": [
       "**积 <font color=green>np.power(s42)</font>**"
      ],
      "text/plain": [
       "<IPython.core.display.Markdown object>"
      ]
     },
     "metadata": {},
     "output_type": "display_data"
    },
    {
     "data": {
      "text/plain": [
       "76734000.0"
      ]
     },
     "metadata": {},
     "output_type": "display_data"
    }
   ],
   "source": [
    "s42 = pd.Series({'Joe': 100, 'Helen': 98, 'Jack': 87, 'Allen': 90, 'May': None})\n",
    "\n",
    "display_content(s42, '初始值 <font color=green>s42</font>')\n",
    "\n",
    "s42_1 = s42.max()\n",
    "display_content(s42_1, '最大值 <font color=green>s42.max()</font>')\n",
    "\n",
    "s42_2 = s42.min()\n",
    "display_content(s42_2, '最小值 <font color=green>s42.min()</font>')\n",
    "\n",
    "s42_3 = s42.mean()\n",
    "display_content(s42_3, '平均值 <font color=green>s42.mean()</font>')\n",
    "\n",
    "s42_4 = s42.std()\n",
    "display_content(s42_4, '标准差 <font color=green>s42.std()</font>')\n",
    "\n",
    "s42_5 = s42.sum()\n",
    "display_content(s42_5, '和 <font color=green>s42.sum()</font>')\n",
    "\n",
    "s42_5 = np.prod(s42)\n",
    "display_content(s42_5, '积 <font color=green>np.power(s42)</font>')\n",
    "\n"
   ]
  }
 ],
 "metadata": {
  "kernelspec": {
   "display_name": "Python 3 (ipykernel)",
   "language": "python",
   "name": "python3"
  },
  "language_info": {
   "codemirror_mode": {
    "name": "ipython",
    "version": 3
   },
   "file_extension": ".py",
   "mimetype": "text/x-python",
   "name": "python",
   "nbconvert_exporter": "python",
   "pygments_lexer": "ipython3",
   "version": "3.9.7"
  },
  "toc": {
   "base_numbering": 1,
   "nav_menu": {},
   "number_sections": true,
   "sideBar": true,
   "skip_h1_title": false,
   "title_cell": "Table of Contents",
   "title_sidebar": "Contents",
   "toc_cell": false,
   "toc_position": {
    "height": "calc(100% - 180px)",
    "left": "10px",
    "top": "150px",
    "width": "302.398px"
   },
   "toc_section_display": true,
   "toc_window_display": true
  }
 },
 "nbformat": 4,
 "nbformat_minor": 1
}
