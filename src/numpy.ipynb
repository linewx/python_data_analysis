{
 "cells": [
  {
   "cell_type": "code",
   "execution_count": null,
   "metadata": {
    "jupyter": {
     "outputs_hidden": true
    }
   },
   "outputs": [],
   "source": [
    "import numpy as np\n",
    "from IPython.display import display, HTML"
   ]
  },
  {
   "cell_type": "markdown",
   "metadata": {
    "tags": []
   },
   "source": [
    "# 基本属性\n",
    "--------------\n",
    "\n",
    "* ndarray (N Dimension Array)\n",
    "* dtype\n",
    "* shape"
   ]
  },
  {
   "cell_type": "code",
   "execution_count": null,
   "metadata": {
    "jupyter": {
     "outputs_hidden": false
    },
    "pycharm": {
     "name": "#%%\n"
    }
   },
   "outputs": [],
   "source": [
    "arr1 = np.arange(10).reshape(2, 5)\n",
    "display(arr1)\n",
    "print('dtype: ', arr1.dtype)\n",
    "print('shape: ', arr1.shape)\n"
   ]
  },
  {
   "cell_type": "markdown",
   "metadata": {},
   "source": [
    "# [创建](https://numpy.org/doc/stable/reference/routines.array-creation.html#)\n",
    "----------------"
   ]
  },
  {
   "cell_type": "markdown",
   "metadata": {},
   "source": [
    "## 通过现有数据创建"
   ]
  },
  {
   "cell_type": "code",
   "execution_count": null,
   "metadata": {
    "jupyter": {
     "outputs_hidden": false
    },
    "pycharm": {
     "name": "#%%\n"
    }
   },
   "outputs": [],
   "source": [
    "arr21_1 = np.array([1, 2, 3, 4, 5, 6])\n",
    "arr21_2 = np.asarray([1, 2, 3, 4, 5, 6]).reshape(2, 3)"
   ]
  },
  {
   "cell_type": "markdown",
   "metadata": {},
   "source": [
    "## 通过现有shape或者value"
   ]
  },
  {
   "cell_type": "code",
   "execution_count": null,
   "metadata": {
    "pycharm": {
     "name": "#%%\n"
    }
   },
   "outputs": [],
   "source": [
    "arr22_1 = np.array([1, 2, 3, 4, 5, 6])\n",
    "arr22_2 = np.asarray([1, 2, 3, 4, 5, 6]).reshape(2, 3)\n",
    "\n",
    "arr221_1 = np.zeros((2, 5))\n",
    "arr221_2 = np.zeros_like(arr1)\n",
    "\n",
    "arr222_1 = np.ones((2, 5))\n",
    "arr222_2 = np.ones_like(arr1)\n",
    "\n",
    "arr223_1 = np.empty((2, 5))\n",
    "arr223_2 = np.empty_like(arr1)"
   ]
  },
  {
   "cell_type": "markdown",
   "metadata": {},
   "source": [
    "## 通过range创建"
   ]
  },
  {
   "cell_type": "code",
   "execution_count": null,
   "metadata": {
    "pycharm": {
     "name": "#%%\n"
    }
   },
   "outputs": [],
   "source": [
    "arr23 = np.arange(10, 20, 2)"
   ]
  },
  {
   "cell_type": "markdown",
   "metadata": {},
   "source": [
    "## random创建"
   ]
  },
  {
   "cell_type": "code",
   "execution_count": null,
   "metadata": {
    "pycharm": {
     "name": "#%%\n"
    }
   },
   "outputs": [],
   "source": [
    "arr24 = np.random.random(10)\n",
    "arr24_2 = np.random.randn(2, 3)"
   ]
  },
  {
   "cell_type": "markdown",
   "metadata": {},
   "source": [
    "## reshape\n",
    "先创建1维 -> N维"
   ]
  },
  {
   "cell_type": "code",
   "execution_count": null,
   "metadata": {
    "pycharm": {
     "name": "#%%\n"
    }
   },
   "outputs": [],
   "source": [
    "arr25 = np.random.randn(10).reshape(2, 5)"
   ]
  },
  {
   "cell_type": "markdown",
   "metadata": {},
   "source": [
    "# 访问\n",
    "-----------------------\n"
   ]
  },
  {
   "cell_type": "markdown",
   "metadata": {},
   "source": [
    "## 基础索引及切片"
   ]
  },
  {
   "cell_type": "code",
   "execution_count": null,
   "metadata": {
    "jupyter": {
     "outputs_hidden": false
    },
    "pycharm": {
     "name": "#%%\n"
    }
   },
   "outputs": [],
   "source": [
    "arr3 = np.arange(30).reshape(6, 5)\n",
    "display(arr3)\n",
    "\n",
    "# 3.1.1 单个元素 = 单列 + 单行\n",
    "arr3131 = arr3[2, 1]  # 第2行第1列\n",
    "\n",
    "# 3.1.2 单行 = 单行 + 多个列\n",
    "arr312 = arr3[1, :]  # 所有列\n",
    "arr312_1 = arr3[1, [1, 3]]  #多列支持\n",
    "arr312_2 = arr3[1, 1:3]  #连续的多列\n",
    "\n",
    "# 3.1.3 单列 = 单列 + 多个行\n",
    "arr313 = arr3[:, 1]  #多列支持\n",
    "arr313_1 = arr3[[1, 3], 1]  #多列支持\n",
    "arr313_2 = arr3[1:3, 1]  #连续的多行\n",
    "\n",
    "# 3.1.4 子数组 = 多行 + 多列\n",
    "arr314 = arr3[:, :]\n",
    "arr314_1 = arr3[[1, 3], 1:3]"
   ]
  },
  {
   "cell_type": "markdown",
   "metadata": {},
   "source": [
    "## 布尔索引"
   ]
  },
  {
   "cell_type": "code",
   "execution_count": null,
   "metadata": {
    "pycharm": {
     "name": "#%%\n"
    }
   },
   "outputs": [],
   "source": [
    "# 3.2.1 一维布尔索引\n",
    "arr321 = np.arange(30).reshape(6, 5)\n",
    "arr321_names = np.array(['Joe', 'Bob', 'Bob', 'Allen', 'Bob', 'Joe'])\n",
    "# arr321_bool = (arr321_names == 'Joe') # 一维布尔值\n",
    "arr321[arr321_names == 'Joe'] = 0  # 第一行和最后一行被选中赋值了\n",
    "arr321_2 = np.arange(30).reshape(6, 5)\n",
    "arr321_2[~(arr321_names == 'Joe')] = 0  # 除了第一和最后一行被选中赋值了\n",
    "\n",
    "# 3.2.2 二维布尔索引\n",
    "arr322 = np.arange(30).reshape(6, 5)\n",
    "arr322[arr322 % 5 == 0] = 0  # 所有被5整除的数置为0"
   ]
  },
  {
   "cell_type": "markdown",
   "metadata": {},
   "source": [
    "## 神奇索引 （整数数组索引）\n",
    "整数索引会产生新的数组！！！"
   ]
  },
  {
   "cell_type": "code",
   "execution_count": null,
   "metadata": {
    "pycharm": {
     "name": "#%%\n"
    }
   },
   "outputs": [],
   "source": [
    "arr33 = np.arange(30).reshape(6, 5)\n",
    "# array([[ 0,  1,  2,  3,  4],\n",
    "#        [ 5,  6,  7,  8,  9],\n",
    "#        [10, 11, 12, 13, 14],\n",
    "#        [15, 16, 17, 18, 19],\n",
    "#        [20, 21, 22, 23, 24],\n",
    "#        [25, 26, 27, 28, 29]])\n",
    "\n",
    "# 3.3.1 一维数组\n",
    "\n",
    "arr331 = arr33[[3, 1]]  #选中第三和第一行\n",
    "# array([[15, 16, 17, 18, 19],\n",
    "#        [ 5,  6,  7,  8,  9]])\n",
    "\n",
    "# 3.3.2 二维数组\n",
    "arr332 = arr33[[3, 1], [1, 2]]\n",
    "# 违反直觉！！！\n",
    "# 结果是一维数组元素(3,1), (1,2)\n",
    "# array([16,  7])\n",
    "\n",
    "# 这才是想要的，需要每次选一维，先选行，然后先列\n",
    "arr332_1 = arr33[[3, 1]][:, [1, 2]]\n",
    "#array([[16, 17],\n",
    "#       [ 6,  7]])\n"
   ]
  },
  {
   "cell_type": "markdown",
   "metadata": {},
   "source": [
    "# 运算"
   ]
  },
  {
   "cell_type": "markdown",
   "metadata": {},
   "source": [
    "## [数学计算](https://numpy.org/doc/stable/reference/routines.math.html)"
   ]
  },
  {
   "cell_type": "code",
   "execution_count": null,
   "metadata": {
    "jupyter": {
     "outputs_hidden": false
    },
    "pycharm": {
     "name": "#%%\n"
    }
   },
   "outputs": [],
   "source": [
    "arr41 = np.arange(30).reshape(6, 5)\n",
    "arr41_2 = np.arange(1, 6)\n",
    "arr41_3 = np.arange(60, 90).reshape(6, 5)"
   ]
  },
  {
   "cell_type": "markdown",
   "metadata": {},
   "source": [
    "### 基础运算"
   ]
  },
  {
   "cell_type": "code",
   "execution_count": null,
   "metadata": {
    "pycharm": {
     "name": "#%%\n"
    }
   },
   "outputs": [],
   "source": [
    "# 逐个元素计算(broadcast)\n",
    "# 2维与标量计算 [[1,2],[3,4]] * 2 = [[1,2]*2, [3,4] * 2] = [[1*2, 2*2], [3*2, 4*2]]\n",
    "\n",
    "# 4.1.1.1 2维 + 0维\n",
    "arr4111_1 = arr41 + 2\n",
    "arr4111_2 = arr41 - 2\n",
    "arr4111_3 = arr41 * 2\n",
    "arr4111_4 = arr41 / 2\n",
    "arr4111_5 = arr41 ** 2\n",
    "arr4111_6 = arr41 % 2\n",
    "arr4111_7 = arr41 > 2\n",
    "\n",
    "# 4.1.1.2 2维 + 1维\n",
    "arr4112_1 = arr41 + arr41_2\n",
    "arr4112_2 = arr41 - arr41_2\n",
    "arr4112_3 = arr41 * arr41_2\n",
    "arr4112_4 = arr41 / arr41_2\n",
    "\n",
    "# 4.1.1.3 2维 + 2维\n",
    "arr4113_1 = arr41 + arr41_3\n",
    "arr4113_2 = arr41 - arr41_3\n",
    "arr4113_3 = arr41 * arr41_3\n",
    "arr4113_4 = arr41 / arr41_3"
   ]
  },
  {
   "cell_type": "markdown",
   "metadata": {},
   "source": [
    "### 通用函数计算"
   ]
  },
  {
   "cell_type": "code",
   "execution_count": null,
   "metadata": {
    "pycharm": {
     "name": "#%%\n"
    }
   },
   "outputs": [],
   "source": [
    "#array([[ 0,  1,  2,  3,  4],\n",
    "#       [ 5,  6,  7,  8,  9],\n",
    "#       [10, 11, 12, 13, 14],\n",
    "#       [15, 16, 17, 18, 19],\n",
    "#       [20, 21, 22, 23, 24],\n",
    "#       [25, 26, 27, 28, 29]])\n",
    "arr412 = np.arange(30).reshape(6, 5)\n",
    "arr412_2 = np.arange(30, 60).reshape(6, 5)\n",
    "\n",
    "# 4.1.2.1 一维函数\n",
    "arr4121_1 = np.sqrt(arr412)\n",
    "arr4121_2 = np.abs(arr412)\n",
    "arr4121_3 = np.square(arr412)\n",
    "\n",
    "# 4.1.2.2 二维函数\n",
    "arr4122_1 = np.add(arr412, arr412_2)\n",
    "arr4122_2 = np.maximum(arr412, arr412_2)\n",
    "\n",
    "# 4.1.2.3 三元函数\n",
    "arr4123_1 = np.where(arr412 > 10, 0, 1)\n"
   ]
  },
  {
   "cell_type": "markdown",
   "metadata": {
    "pycharm": {
     "name": "#%% md\n"
    }
   },
   "source": [
    "## 统计计算"
   ]
  },
  {
   "cell_type": "markdown",
   "metadata": {},
   "source": [
    "### 常用统计计算"
   ]
  },
  {
   "cell_type": "code",
   "execution_count": null,
   "metadata": {
    "pycharm": {
     "name": "#%%\n"
    }
   },
   "outputs": [],
   "source": [
    "arr421 = np.arange(30).reshape(6, 5)\n",
    "arr421_1 = np.sum(arr421)  #聚合成0维\n",
    "arr421_2 = np.mean(arr421)\n",
    "arr421_3 = np.min(arr421)\n",
    "arr421_4 = np.max(arr421)\n",
    "arr421_5 = np.cumsum(arr421)\n",
    "arr421_6 = np.cumprod(arr421)\n",
    "arr421_7 = np.argmin(arr421)\n",
    "arr421_8 = np.argmax(arr421)"
   ]
  },
  {
   "cell_type": "markdown",
   "metadata": {},
   "source": [
    "### 轴向统计计算"
   ]
  },
  {
   "cell_type": "code",
   "execution_count": 11,
   "metadata": {
    "pycharm": {
     "name": "#%%\n"
    }
   },
   "outputs": [
    {
     "data": {
      "text/plain": [
       "array([75, 81, 87, 93, 99])"
      ]
     },
     "execution_count": 11,
     "metadata": {},
     "output_type": "execute_result"
    }
   ],
   "source": [
    "arr422 = np.arange(30).reshape(6, 5)\n",
    "# array([[ 0,  1,  2,  3,  4],\n",
    "#        [ 5,  6,  7,  8,  9],\n",
    "#        [10, 11, 12, 13, 14],\n",
    "#        [15, 16, 17, 18, 19],\n",
    "#        [20, 21, 22, 23, 24],\n",
    "#        [25, 26, 27, 28, 29]])\n",
    "arr422_1 = np.sum(arr422, axis=0)  # 聚合成一维\n",
    "arr422_2 = np.mean(arr422, axis=1)  #聚合成一维\n",
    "arr422_3 = np.cumsum(arr422, axis=0)  #不降维\n",
    "arr422_4 = np.cumprod(arr422, axis=1)  #不降维\n",
    "\n",
    "arr422_1"
   ]
  },
  {
   "cell_type": "markdown",
   "metadata": {},
   "source": [
    "## 排序\n",
    "-----------------"
   ]
  },
  {
   "cell_type": "code",
   "execution_count": null,
   "metadata": {
    "pycharm": {
     "name": "#%%\n"
    }
   },
   "outputs": [],
   "source": [
    "arr43 = np.arange(30, 0, -1).reshape(6, 5)\n",
    "# arr43\n",
    "arr43.sort()  # in place\n",
    "arr43_2 = np.sort(arr43, axis=1)  # 会产生新的arr\n"
   ]
  },
  {
   "cell_type": "markdown",
   "metadata": {},
   "source": [
    "## 集合逻辑\n",
    "----------------"
   ]
  },
  {
   "cell_type": "code",
   "execution_count": null,
   "metadata": {
    "pycharm": {
     "name": "#%%\n"
    }
   },
   "outputs": [],
   "source": [
    "arr44_1 = np.array([1, 2, 2, 3, 4, 5])\n",
    "arr44_2 = np.array([4, 5, 6, 5])\n",
    "\n",
    "arr44_3 = np.unique(arr44_1)  #计算唯一值\n",
    "arr44_4 = np.intersect1d(arr44_1, arr44_2)  #计算交集\n",
    "arr44_5 = np.union1d(arr44_1, arr44_2)  #计算交集\n",
    "arr44_6 = np.in1d(arr44_1, arr44_2)  #x是否是y的子集\n",
    "arr44_7 = np.setdiff1d(arr44_1, arr44_2)  #差集\n",
    "arr44_8 = np.setxor1d(arr44_1, arr44_2)  #异或集"
   ]
  },
  {
   "cell_type": "markdown",
   "metadata": {},
   "source": [
    "## [线性代数](https://numpy.org/doc/stable/reference/routines.linalg.html)\n",
    "-------------"
   ]
  },
  {
   "cell_type": "code",
   "execution_count": null,
   "metadata": {
    "pycharm": {
     "name": "#%%\n"
    }
   },
   "outputs": [],
   "source": [
    "arr45 = np.arange(30, 0, -1).reshape(6, 5)\n",
    "arr45_1 = arr45.T  # 矩阵转置\n",
    "np.dot(arr45, arr45.T)  #点乘"
   ]
  },
  {
   "cell_type": "markdown",
   "metadata": {},
   "source": [
    "## 其他\n",
    "-----------"
   ]
  },
  {
   "cell_type": "markdown",
   "metadata": {},
   "source": [
    "### 布尔值数组逻辑"
   ]
  },
  {
   "cell_type": "code",
   "execution_count": null,
   "metadata": {
    "pycharm": {
     "name": "#%%\n"
    }
   },
   "outputs": [],
   "source": [
    "arr461 = np.array([[True, False, False, False], [False, False, False, False]])\n",
    "arr461_1 = arr461.any()\n",
    "arr461_2 = arr461.all()\n"
   ]
  },
  {
   "cell_type": "markdown",
   "metadata": {},
   "source": []
  }
 ],
 "metadata": {
  "kernelspec": {
   "display_name": "Python 3 (ipykernel)",
   "language": "python",
   "name": "python3"
  },
  "language_info": {
   "codemirror_mode": {
    "name": "ipython",
    "version": 3
   },
   "file_extension": ".py",
   "mimetype": "text/x-python",
   "name": "python",
   "nbconvert_exporter": "python",
   "pygments_lexer": "ipython3",
   "version": "3.9.7"
  },
  "toc": {
   "base_numbering": 1,
   "nav_menu": {
    "height": "344px",
    "width": "387px"
   },
   "number_sections": true,
   "sideBar": true,
   "skip_h1_title": false,
   "title_cell": "Table of Contents",
   "title_sidebar": "Contents",
   "toc_cell": false,
   "toc_position": {
    "height": "calc(100% - 180px)",
    "left": "10px",
    "top": "150px",
    "width": "302.391px"
   },
   "toc_section_display": true,
   "toc_window_display": true
  },
  "toc-autonumbering": true
 },
 "nbformat": 4,
 "nbformat_minor": 4
}
